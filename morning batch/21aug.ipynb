{
 "cells": [
  {
   "cell_type": "markdown",
   "metadata": {},
   "source": [
    "#### Oops conti......\n",
    "**contructor**\n",
    "* The contructor is a  special type of method(function) which iss useddd to intialize members of the class.\n",
    "**creaating the constructor in python**\n",
    "* In python,the method __init__()this is the contructor of the class\n",
    "* It accepts the self--keywords a first argument.\n",
    "**syntax**: class class_name():\n",
    "                def __init__(self): #default parameter is self\n",
    "                \n",
    "                def __init__(self,a,b): first varaible acts as a default parameter\n",
    "                def __init__(a,b,self): here a is default parameter\n",
    "                "
   ]
  },
  {
   "cell_type": "code",
   "execution_count": 9,
   "metadata": {},
   "outputs": [
    {
     "name": "stdout",
     "output_type": "stream",
     "text": [
      "5\n",
      "4\n",
      "2\n"
     ]
    }
   ],
   "source": [
    "class Math():\n",
    "    def __init__(self,a,b,c):\n",
    "        self.a1=a\n",
    "        self.b1=b\n",
    "        self.c1=c\n",
    "    def display(self):\n",
    "        print(self.a1)\n",
    "        print(self.b1)\n",
    "        print(self.c1)\n",
    "cal=Math(5,4,2)\n",
    "cal.display()"
   ]
  },
  {
   "cell_type": "code",
   "execution_count": 3,
   "metadata": {},
   "outputs": [
    {
     "name": "stdout",
     "output_type": "stream",
     "text": [
      "5\n",
      "4\n",
      "2\n"
     ]
    }
   ],
   "source": [
    "cal=Math(5,4,2)\n",
    "cal.display()"
   ]
  },
  {
   "cell_type": "code",
   "execution_count": 4,
   "metadata": {},
   "outputs": [],
   "source": [
    "class Math():\n",
    "    def __init__(a,b,c):\n",
    "        a.b=b\n",
    "        a.c=c\n",
    "    def show(a):\n",
    "        print(a.b)\n",
    "        print(a.c)\n",
    "    "
   ]
  },
  {
   "cell_type": "code",
   "execution_count": 7,
   "metadata": {},
   "outputs": [],
   "source": [
    "#objectnaame=classname\n",
    "m=Math(5,4)"
   ]
  },
  {
   "cell_type": "code",
   "execution_count": 8,
   "metadata": {},
   "outputs": [
    {
     "name": "stdout",
     "output_type": "stream",
     "text": [
      "5\n",
      "4\n"
     ]
    }
   ],
   "source": [
    "m.show()"
   ]
  },
  {
   "cell_type": "code",
   "execution_count": 10,
   "metadata": {},
   "outputs": [],
   "source": [
    "#consider student details\n",
    "class Student():\n",
    "    def __init__(self,name,id):\n",
    "        self.name=name\n",
    "        self.id=id\n",
    "    def display(self):\n",
    "        print(self.id,self.name)\n",
    "s1=Student(\"abc\",28)\n",
    "s2=Student(\"def\",27)"
   ]
  },
  {
   "cell_type": "code",
   "execution_count": 11,
   "metadata": {},
   "outputs": [
    {
     "name": "stdout",
     "output_type": "stream",
     "text": [
      "28 abc\n"
     ]
    }
   ],
   "source": [
    "#accessing display method to print student1 data\n",
    "s1.display()"
   ]
  },
  {
   "cell_type": "code",
   "execution_count": 12,
   "metadata": {},
   "outputs": [
    {
     "name": "stdout",
     "output_type": "stream",
     "text": [
      "27 def\n"
     ]
    }
   ],
   "source": [
    "#accessing display method to print student2 data\n",
    "s2.display()"
   ]
  },
  {
   "cell_type": "markdown",
   "metadata": {},
   "source": [
    "**inheritance**\n",
    "* inheritance is an important aspect of object oriented paradigm\n",
    "* It provides code reusability to the program.\n",
    "* in inheritance child class acquires the properties and can access all rthe data members and functions.\n",
    "* In python,by using inheritance we can create a class which uses all the properties and behaviours of another class.\n",
    "* the new class is known as derived class or child class.\n",
    "* parent class or baseclass\n",
    "* **format**\n",
    "    class childclass(parentclass):\n",
    "* Types of inheritance\n",
    "    - Singlelevel inheritance(one parent class,one child class)\n",
    "        ex:A--->B\n",
    "    - Multilevel inheritance(there is no fixed number of parent and class)\n",
    "        ex:grandfather--->father-->son\n",
    "    - Multiple inheritance(multiple base or parent class,one child class)\n",
    "    - Hierarchical inheritance(single parent class multiple child class)\n",
    "    - Hybrid inheritance(collection multiple and multilevel inheritance)"
   ]
  },
  {
   "cell_type": "code",
   "execution_count": 13,
   "metadata": {},
   "outputs": [],
   "source": [
    "#single level inheritance\n",
    "class ClassA():#ClassA having 2 arguments-a,b\n",
    "    a,b=10,15\n",
    "    def display():\n",
    "        print(\"i am from classA\")\n",
    "class ClassB(ClassA):#ClassB having 4 arguments-a,b,c,d\n",
    "    c,d=2,4\n",
    "    def show():\n",
    "        print(\"i am from ClassB\")"
   ]
  },
  {
   "cell_type": "code",
   "execution_count": 14,
   "metadata": {},
   "outputs": [],
   "source": [
    "obj=ClassA"
   ]
  },
  {
   "cell_type": "code",
   "execution_count": 15,
   "metadata": {},
   "outputs": [
    {
     "name": "stdout",
     "output_type": "stream",
     "text": [
      "10\n"
     ]
    }
   ],
   "source": [
    "print(obj.a)"
   ]
  },
  {
   "cell_type": "code",
   "execution_count": 16,
   "metadata": {},
   "outputs": [
    {
     "name": "stdout",
     "output_type": "stream",
     "text": [
      "15\n"
     ]
    }
   ],
   "source": [
    "print(obj.b)"
   ]
  },
  {
   "cell_type": "code",
   "execution_count": 17,
   "metadata": {},
   "outputs": [
    {
     "ename": "AttributeError",
     "evalue": "type object 'ClassA' has no attribute 'c'",
     "output_type": "error",
     "traceback": [
      "\u001b[1;31m---------------------------------------------------------------------------\u001b[0m",
      "\u001b[1;31mAttributeError\u001b[0m                            Traceback (most recent call last)",
      "\u001b[1;32m<ipython-input-17-16bcbba025eb>\u001b[0m in \u001b[0;36m<module>\u001b[1;34m\u001b[0m\n\u001b[1;32m----> 1\u001b[1;33m \u001b[0mprint\u001b[0m\u001b[1;33m(\u001b[0m\u001b[0mobj\u001b[0m\u001b[1;33m.\u001b[0m\u001b[0mc\u001b[0m\u001b[1;33m)\u001b[0m\u001b[1;33m\u001b[0m\u001b[1;33m\u001b[0m\u001b[0m\n\u001b[0m",
      "\u001b[1;31mAttributeError\u001b[0m: type object 'ClassA' has no attribute 'c'"
     ]
    }
   ],
   "source": [
    "print(obj.c)"
   ]
  },
  {
   "cell_type": "code",
   "execution_count": 18,
   "metadata": {},
   "outputs": [],
   "source": [
    "obj1=ClassB"
   ]
  },
  {
   "cell_type": "code",
   "execution_count": 19,
   "metadata": {},
   "outputs": [
    {
     "name": "stdout",
     "output_type": "stream",
     "text": [
      "10\n"
     ]
    }
   ],
   "source": [
    "print(obj1.a)"
   ]
  },
  {
   "cell_type": "code",
   "execution_count": 20,
   "metadata": {},
   "outputs": [
    {
     "name": "stdout",
     "output_type": "stream",
     "text": [
      "15\n",
      "2\n",
      "4\n"
     ]
    }
   ],
   "source": [
    "print(obj1.b)\n",
    "print(obj1.c)\n",
    "print(obj1.d)"
   ]
  },
  {
   "cell_type": "code",
   "execution_count": 21,
   "metadata": {},
   "outputs": [
    {
     "name": "stdout",
     "output_type": "stream",
     "text": [
      "i am from classA\n"
     ]
    }
   ],
   "source": [
    "obj1.display()"
   ]
  },
  {
   "cell_type": "code",
   "execution_count": 22,
   "metadata": {},
   "outputs": [
    {
     "name": "stdout",
     "output_type": "stream",
     "text": [
      "i am from classA\n",
      "None\n"
     ]
    }
   ],
   "source": [
    "print(obj1.display())"
   ]
  },
  {
   "cell_type": "code",
   "execution_count": 23,
   "metadata": {},
   "outputs": [
    {
     "name": "stdout",
     "output_type": "stream",
     "text": [
      "i am from ClassB\n"
     ]
    }
   ],
   "source": [
    "obj1.show()"
   ]
  },
  {
   "cell_type": "code",
   "execution_count": 31,
   "metadata": {},
   "outputs": [
    {
     "name": "stdout",
     "output_type": "stream",
     "text": [
      "6\n",
      "2\n",
      "4\n",
      "i am from classA\n"
     ]
    }
   ],
   "source": [
    "class A():\n",
    "    def __init__(self,a,b):\n",
    "        self.a=a\n",
    "        self.b=b\n",
    "    def display(self):\n",
    "        print(\"i am from classA\")\n",
    "class B(A):\n",
    "    def __init__(self,a,b,c):\n",
    "        self.c=c\n",
    "        super().__init__(a,b)\n",
    "    def show(self):\n",
    "        print(self.c)\n",
    "        print(self.a)\n",
    "        print(self.b)\n",
    "obj=B(2,4,6)\n",
    "obj.show()\n",
    "obj.display()"
   ]
  },
  {
   "cell_type": "code",
   "execution_count": 32,
   "metadata": {},
   "outputs": [
    {
     "name": "stdout",
     "output_type": "stream",
     "text": [
      "i am from classA\n",
      "i am from classB\n",
      "i am from classC\n"
     ]
    }
   ],
   "source": [
    "#multilevel inheritance\n",
    "class A():\n",
    "    def classA():\n",
    "        print(\"i am from classA\")\n",
    "class B(A):\n",
    "    def classB():\n",
    "        print(\"i am from classB\")\n",
    "class C(B):\n",
    "    def classC():\n",
    "        print(\"i am from classC\")\n",
    "obj=C\n",
    "obj.classA()\n",
    "obj.classB()\n",
    "obj.classC()"
   ]
  },
  {
   "cell_type": "code",
   "execution_count": 35,
   "metadata": {},
   "outputs": [
    {
     "name": "stdout",
     "output_type": "stream",
     "text": [
      "i am from classC\n"
     ]
    }
   ],
   "source": [
    "#multiple inheritance\n",
    "class A():\n",
    "    def classA():\n",
    "        print(\"i am from classA\")\n",
    "class B():\n",
    "    def classB():\n",
    "        print(\"i am from classB\")\n",
    "class C(A,B):\n",
    "    def classC():\n",
    "        print(\"i am from classC\")\n",
    "obj=C\n",
    "#obj.classA()\n",
    "#obj.classB()\n",
    "obj.classC()"
   ]
  },
  {
   "cell_type": "code",
   "execution_count": 37,
   "metadata": {},
   "outputs": [
    {
     "name": "stdout",
     "output_type": "stream",
     "text": [
      "i am from classB\n",
      "i am from classA\n"
     ]
    }
   ],
   "source": [
    "#heirarchical inheritance\n",
    "class A():\n",
    "    def classA():\n",
    "        print(\"i am from classA\")\n",
    "class B(A):\n",
    "    def classB():\n",
    "        print(\"i am from classB\")\n",
    "class C(A):\n",
    "    def classC():\n",
    "        print(\"i am from classC\")\n",
    "obj=C\n",
    "obj1=B\n",
    "obj1.classB()\n",
    "obj.classA()"
   ]
  },
  {
   "cell_type": "code",
   "execution_count": 3,
   "metadata": {},
   "outputs": [
    {
     "name": "stdout",
     "output_type": "stream",
     "text": [
      "i am from classA \n"
     ]
    }
   ],
   "source": [
    "#hybrid inheritance\n",
    "class A():\n",
    "    def classA():\n",
    "        print(\"i am from classA \")\n",
    "class B():\n",
    "    def classB():\n",
    "        print(\"i am from classB\")\n",
    "class C(A,B):\n",
    "    def classC():\n",
    "        print(\"i am from classC\")\n",
    "class D(C):\n",
    "    def classD():\n",
    "        print(\"i am from classD\")\n",
    "class E(D):\n",
    "    def classE():\n",
    "        print(\"i am from classE\")\n",
    "\n",
    "obj=E\n",
    "obj.classA()"
   ]
  },
  {
   "cell_type": "code",
   "execution_count": null,
   "metadata": {},
   "outputs": [],
   "source": []
  }
 ],
 "metadata": {
  "kernelspec": {
   "display_name": "Python 3",
   "language": "python",
   "name": "python3"
  },
  "language_info": {
   "codemirror_mode": {
    "name": "ipython",
    "version": 3
   },
   "file_extension": ".py",
   "mimetype": "text/x-python",
   "name": "python",
   "nbconvert_exporter": "python",
   "pygments_lexer": "ipython3",
   "version": "3.7.3"
  }
 },
 "nbformat": 4,
 "nbformat_minor": 2
}

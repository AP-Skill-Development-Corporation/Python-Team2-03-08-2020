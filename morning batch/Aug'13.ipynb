{
 "cells": [
  {
   "cell_type": "markdown",
   "metadata": {},
   "source": [
    "## Files and data processing with files\n",
    "- collection data stored in local system is nothing file\n",
    "\n",
    "* open('1','2') ---> 1. filename(file as input)\n",
    "                     2. mode\n",
    "\n",
    "#### operations \n",
    "1. create --> x\n",
    "1. read ---> r\n",
    "2. write ---> w\n",
    "3. append ---> a"
   ]
  },
  {
   "cell_type": "code",
   "execution_count": 1,
   "metadata": {},
   "outputs": [
    {
     "ename": "FileNotFoundError",
     "evalue": "[Errno 2] No such file or directory: 'data.txt'",
     "output_type": "error",
     "traceback": [
      "\u001b[1;31m---------------------------------------------------------------------------\u001b[0m",
      "\u001b[1;31mFileNotFoundError\u001b[0m                         Traceback (most recent call last)",
      "\u001b[1;32m<ipython-input-1-b2069263dd35>\u001b[0m in \u001b[0;36m<module>\u001b[1;34m\u001b[0m\n\u001b[1;32m----> 1\u001b[1;33m \u001b[0mn\u001b[0m \u001b[1;33m=\u001b[0m \u001b[0mopen\u001b[0m\u001b[1;33m(\u001b[0m\u001b[1;34m'data.txt'\u001b[0m\u001b[1;33m,\u001b[0m\u001b[1;34m'r'\u001b[0m\u001b[1;33m)\u001b[0m \u001b[1;31m#--> it will opens the perticular file\u001b[0m\u001b[1;33m\u001b[0m\u001b[1;33m\u001b[0m\u001b[0m\n\u001b[0m\u001b[0;32m      2\u001b[0m \u001b[0mprint\u001b[0m\u001b[1;33m(\u001b[0m\u001b[0mn\u001b[0m\u001b[1;33m.\u001b[0m\u001b[0mread\u001b[0m\u001b[1;33m(\u001b[0m\u001b[1;33m)\u001b[0m\u001b[1;33m)\u001b[0m\u001b[1;33m\u001b[0m\u001b[1;33m\u001b[0m\u001b[0m\n",
      "\u001b[1;31mFileNotFoundError\u001b[0m: [Errno 2] No such file or directory: 'data.txt'"
     ]
    }
   ],
   "source": [
    "n = open('data.txt','r') #--> it will opens the perticular file\n",
    "print(n.read())"
   ]
  },
  {
   "cell_type": "code",
   "execution_count": 8,
   "metadata": {},
   "outputs": [
    {
     "name": "stdout",
     "output_type": "stream",
     "text": [
      "Welcome to APSSDC\n",
      "python programming\n",
      "online classes\n"
     ]
    }
   ],
   "source": [
    "n = open('data.txt','r') #--> it will opens the perticular file\n",
    "print(n.read())\n",
    "n.close()"
   ]
  },
  {
   "cell_type": "code",
   "execution_count": 7,
   "metadata": {},
   "outputs": [
    {
     "name": "stdout",
     "output_type": "stream",
     "text": [
      "Welcome to\n"
     ]
    }
   ],
   "source": [
    "n = open('data.txt','r') #--> it will opens the perticular file\n",
    "print(n.read(10))\n",
    "n.close()"
   ]
  },
  {
   "cell_type": "code",
   "execution_count": 5,
   "metadata": {},
   "outputs": [
    {
     "name": "stdout",
     "output_type": "stream",
     "text": [
      "Welcome to APSSDC\n",
      "\n",
      "python programming\n",
      "\n"
     ]
    }
   ],
   "source": [
    "n = open('data.txt','r') #--> it will opens the perticular file\n",
    "print(n.readline())\n",
    "print(n.readline())"
   ]
  },
  {
   "cell_type": "code",
   "execution_count": 9,
   "metadata": {},
   "outputs": [],
   "source": [
    "#write\n",
    "f = open('data.txt','w')\n",
    "f.write('data deleted')\n",
    "f.close()"
   ]
  },
  {
   "cell_type": "code",
   "execution_count": 11,
   "metadata": {},
   "outputs": [
    {
     "name": "stdout",
     "output_type": "stream",
     "text": [
      "data deleted\n"
     ]
    }
   ],
   "source": [
    "f = open('data.txt','w')\n",
    "f.write('data deleted')\n",
    "f.close()\n",
    "\n",
    "f = open('data.txt','r')\n",
    "print(f.read()) "
   ]
  },
  {
   "cell_type": "code",
   "execution_count": 12,
   "metadata": {},
   "outputs": [],
   "source": [
    "f = open('data1.txt','w')\n",
    "f.write('data deleted')\n",
    "f.close()"
   ]
  },
  {
   "cell_type": "code",
   "execution_count": 13,
   "metadata": {},
   "outputs": [],
   "source": [
    "#append\n",
    "f1 = open('data1.txt','a')\n",
    "f1.write('\\nWELCOME TO APSSDC\\npython programming\\nonline classes')\n",
    "f1.close()"
   ]
  },
  {
   "cell_type": "code",
   "execution_count": 15,
   "metadata": {},
   "outputs": [
    {
     "name": "stdout",
     "output_type": "stream",
     "text": [
      "data deleted\n",
      "WELCOME TO APSSDC\n",
      "python programming\n",
      "online classesExample of append operation in files\n",
      "Example2 of append operation in files\n"
     ]
    }
   ],
   "source": [
    "#append\n",
    "f1 = open('data1.txt','a')\n",
    "f1.write('\\nExample2 of append operation in files')\n",
    "f1.close()\n",
    "\n",
    "f1 = open('data1.txt','r')\n",
    "res = f1.read()\n",
    "print(res)"
   ]
  },
  {
   "cell_type": "code",
   "execution_count": 16,
   "metadata": {},
   "outputs": [],
   "source": [
    "#create\n",
    "new = open('result.txt','x')\n",
    "new.close()"
   ]
  },
  {
   "cell_type": "markdown",
   "metadata": {},
   "source": [
    "### Data processing with files"
   ]
  },
  {
   "cell_type": "code",
   "execution_count": null,
   "metadata": {},
   "outputs": [],
   "source": [
    "# 1. * charcount\n",
    "     * num count\n",
    "     * spl char count\n"
   ]
  },
  {
   "cell_type": "code",
   "execution_count": 18,
   "metadata": {},
   "outputs": [
    {
     "data": {
      "text/plain": [
       "90"
      ]
     },
     "execution_count": 18,
     "metadata": {},
     "output_type": "execute_result"
    }
   ],
   "source": [
    "ord('Z')"
   ]
  },
  {
   "cell_type": "code",
   "execution_count": 19,
   "metadata": {},
   "outputs": [
    {
     "data": {
      "text/plain": [
       "122"
      ]
     },
     "execution_count": 19,
     "metadata": {},
     "output_type": "execute_result"
    }
   ],
   "source": [
    "ord('z')"
   ]
  },
  {
   "cell_type": "code",
   "execution_count": 21,
   "metadata": {},
   "outputs": [
    {
     "name": "stdout",
     "output_type": "stream",
     "text": [
      "23\n",
      "3\n",
      "5\n"
     ]
    }
   ],
   "source": [
    "s=open('data.txt','r')\n",
    "k=s.read()\n",
    "c=[]\n",
    "d=[]\n",
    "e=[]\n",
    "for i in k:\n",
    "    if(ord(i)>=65 and ord(i)<=122):\n",
    "        c+=i\n",
    "    elif(ord(i)>=48 and ord(i)<=57):\n",
    "        d+=i\n",
    "    else:\n",
    "        e+=i\n",
    "print(len(c))\n",
    "print(len(d))\n",
    "print(len(e))"
   ]
  },
  {
   "cell_type": "code",
   "execution_count": 22,
   "metadata": {},
   "outputs": [
    {
     "name": "stdout",
     "output_type": "stream",
     "text": [
      "character count is: 23\n",
      "number count is: 3\n",
      "spl character count is: 2\n"
     ]
    }
   ],
   "source": [
    "f = open('data.txt','r')\n",
    "data = f.read()\n",
    "char = num = spl = 0\n",
    "for i in data:\n",
    "    if i.isalpha():\n",
    "        char+=1\n",
    "    elif i.isdigit():\n",
    "        num+=1\n",
    "    elif i != ' ' and i != '\\n':\n",
    "        spl+=1\n",
    "print('character count is:',char)\n",
    "print('number count is:',num)\n",
    "print('spl character count is:',spl)"
   ]
  },
  {
   "cell_type": "code",
   "execution_count": 24,
   "metadata": {},
   "outputs": [
    {
     "name": "stdout",
     "output_type": "stream",
     "text": [
      "word count is: 5\n"
     ]
    }
   ],
   "source": [
    "#word count\n",
    "f = open('data.txt','r')\n",
    "data = f.read()\n",
    "words = 0\n",
    "for word in data.split():\n",
    "    words += 1\n",
    "print('word count is:',words)"
   ]
  },
  {
   "cell_type": "code",
   "execution_count": 26,
   "metadata": {},
   "outputs": [
    {
     "name": "stdout",
     "output_type": "stream",
     "text": [
      "word count is: 3\n"
     ]
    }
   ],
   "source": [
    "#line count\n",
    "f = open('data.txt','r')\n",
    "data = f.read()\n",
    "lines = 0\n",
    "for line in data.splitlines():\n",
    "    lines += 1\n",
    "print('word count is:',lines)"
   ]
  },
  {
   "cell_type": "code",
   "execution_count": 28,
   "metadata": {},
   "outputs": [
    {
     "name": "stdout",
     "output_type": "stream",
     "text": [
      "3\n"
     ]
    }
   ],
   "source": [
    "f = open('data.txt','r')\n",
    "lines = 0\n",
    "for line in f:\n",
    "    #print(line)\n",
    "    lines+=1\n",
    "print(lines)"
   ]
  },
  {
   "cell_type": "code",
   "execution_count": null,
   "metadata": {},
   "outputs": [],
   "source": [
    "students : 50 - 60 r 60-70\n",
    "marks : 0 - 100\n",
    "\n",
    "marks.txt---> 60 mem ---> markss generation\n",
    "\n",
    "50 \n",
    "67 \n",
    "89 \n",
    "0 \n",
    "12 \n",
    "345"
   ]
  }
 ],
 "metadata": {
  "kernelspec": {
   "display_name": "Python 3",
   "language": "python",
   "name": "python3"
  },
  "language_info": {
   "codemirror_mode": {
    "name": "ipython",
    "version": 3
   },
   "file_extension": ".py",
   "mimetype": "text/x-python",
   "name": "python",
   "nbconvert_exporter": "python",
   "pygments_lexer": "ipython3",
   "version": "3.7.3"
  }
 },
 "nbformat": 4,
 "nbformat_minor": 2
}

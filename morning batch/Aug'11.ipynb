{
 "cells": [
  {
   "cell_type": "markdown",
   "metadata": {},
   "source": [
    "##### Good morning all\n",
    "## Functions\n",
    "* block of statements that performs perticular task is function\n",
    "* when ever u call the function then only the block of statements will execute\n",
    "- advntg\n",
    "* code reusability\n",
    "* code complexity\n",
    "###### types of functions\n",
    "1. built_in functions\n",
    "    1. print\n",
    "    2. input()\n",
    "    1. max --> to calculate max value\n",
    "    2. min --> to calculate the min value\n",
    "    3. abs --> to convert the negative values into positive\n",
    "    4. len --> to calculate the length \n",
    "    5. chr and ord ---> ord => to find find ascii value from the characte\n",
    "                   --> chr => to calculate the character from the integer\n",
    "    6. map and filters\n",
    "2. user defined\n",
    "* the function which is defined by the user to perform perticular task"
   ]
  },
  {
   "cell_type": "code",
   "execution_count": 1,
   "metadata": {},
   "outputs": [
    {
     "name": "stdout",
     "output_type": "stream",
     "text": [
      "7\n",
      "1\n",
      "7\n"
     ]
    }
   ],
   "source": [
    "l = [1,2,3,4,5,6,7]\n",
    "print(max(l))\n",
    "print(min(l))\n",
    "print(len(l))"
   ]
  },
  {
   "cell_type": "code",
   "execution_count": 4,
   "metadata": {},
   "outputs": [
    {
     "name": "stdout",
     "output_type": "stream",
     "text": [
      "-10\n",
      "10\n"
     ]
    }
   ],
   "source": [
    "d = 10\n",
    "d1 = 20\n",
    "print(d-d1)\n",
    "print(abs(d-d1))"
   ]
  },
  {
   "cell_type": "code",
   "execution_count": 6,
   "metadata": {},
   "outputs": [
    {
     "name": "stdout",
     "output_type": "stream",
     "text": [
      "97\n",
      "x\n"
     ]
    }
   ],
   "source": [
    "print(ord('a'))\n",
    "print(chr(120))"
   ]
  },
  {
   "cell_type": "markdown",
   "metadata": {},
   "source": [
    "### user defined function\n",
    "1. required arg\n",
    "2. default arg\n",
    "3. keyword arg\n",
    "4. variable length arg"
   ]
  },
  {
   "cell_type": "code",
   "execution_count": 9,
   "metadata": {
    "collapsed": true
   },
   "outputs": [
    {
     "ename": "IndentationError",
     "evalue": "expected an indented block (<ipython-input-9-fc8a57385f75>, line 4)",
     "output_type": "error",
     "traceback": [
      "\u001b[1;36m  File \u001b[1;32m\"<ipython-input-9-fc8a57385f75>\"\u001b[1;36m, line \u001b[1;32m4\u001b[0m\n\u001b[1;33m    function_name()\u001b[0m\n\u001b[1;37m                ^\u001b[0m\n\u001b[1;31mIndentationError\u001b[0m\u001b[1;31m:\u001b[0m expected an indented block\n"
     ]
    }
   ],
   "source": [
    "#syntax of a function\n",
    "def function_name(): #--> function definintion\n",
    "    #statements for the task\n",
    "function_name()"
   ]
  },
  {
   "cell_type": "code",
   "execution_count": 10,
   "metadata": {},
   "outputs": [],
   "source": [
    "def sample():\n",
    "    print(\"welcome to python programming...\")"
   ]
  },
  {
   "cell_type": "code",
   "execution_count": 11,
   "metadata": {},
   "outputs": [
    {
     "name": "stdout",
     "output_type": "stream",
     "text": [
      "welcome to python programming...\n"
     ]
    }
   ],
   "source": [
    "sample()"
   ]
  },
  {
   "cell_type": "code",
   "execution_count": 17,
   "metadata": {},
   "outputs": [
    {
     "name": "stdout",
     "output_type": "stream",
     "text": [
      "addition is 25\n"
     ]
    },
    {
     "ename": "NameError",
     "evalue": "name 'n2' is not defined",
     "output_type": "error",
     "traceback": [
      "\u001b[1;31m---------------------------------------------------------------------------\u001b[0m",
      "\u001b[1;31mNameError\u001b[0m                                 Traceback (most recent call last)",
      "\u001b[1;32m<ipython-input-17-94569fe1abe7>\u001b[0m in \u001b[0;36m<module>\u001b[1;34m\u001b[0m\n\u001b[0;32m      4\u001b[0m     \u001b[0mprint\u001b[0m\u001b[1;33m(\u001b[0m\u001b[1;34m\"addition is\"\u001b[0m\u001b[1;33m,\u001b[0m\u001b[0mn\u001b[0m\u001b[1;33m+\u001b[0m\u001b[0mn2\u001b[0m\u001b[1;33m)\u001b[0m\u001b[1;33m\u001b[0m\u001b[1;33m\u001b[0m\u001b[0m\n\u001b[0;32m      5\u001b[0m \u001b[0msample1\u001b[0m\u001b[1;33m(\u001b[0m\u001b[1;33m)\u001b[0m\u001b[1;33m\u001b[0m\u001b[1;33m\u001b[0m\u001b[0m\n\u001b[1;32m----> 6\u001b[1;33m \u001b[0mprint\u001b[0m\u001b[1;33m(\u001b[0m\u001b[0mn2\u001b[0m\u001b[1;33m)\u001b[0m\u001b[1;33m\u001b[0m\u001b[1;33m\u001b[0m\u001b[0m\n\u001b[0m",
      "\u001b[1;31mNameError\u001b[0m: name 'n2' is not defined"
     ]
    }
   ],
   "source": [
    "def sample1():\n",
    "    n = 13\n",
    "    n2 = 12 #---> static variable\n",
    "    print(\"addition is\",n+n2)\n",
    "sample1()\n",
    "print(n2)"
   ]
  },
  {
   "cell_type": "code",
   "execution_count": 15,
   "metadata": {},
   "outputs": [
    {
     "name": "stdout",
     "output_type": "stream",
     "text": [
      "addition is 25\n",
      "12\n"
     ]
    }
   ],
   "source": [
    "n1 = 12 #--> gloabal variable\n",
    "def sample1():\n",
    "    n = 13\n",
    "    print(\"addition is\",n+n1)\n",
    "sample1()\n",
    "print(n1)"
   ]
  },
  {
   "cell_type": "code",
   "execution_count": 18,
   "metadata": {},
   "outputs": [
    {
     "name": "stdout",
     "output_type": "stream",
     "text": [
      "archana\n",
      "elisala\n"
     ]
    },
    {
     "ename": "TypeError",
     "evalue": "required_arg() missing 2 required positional arguments: 'name' and 'name1'",
     "output_type": "error",
     "traceback": [
      "\u001b[1;31m---------------------------------------------------------------------------\u001b[0m",
      "\u001b[1;31mTypeError\u001b[0m                                 Traceback (most recent call last)",
      "\u001b[1;32m<ipython-input-18-49089a01a63c>\u001b[0m in \u001b[0;36m<module>\u001b[1;34m\u001b[0m\n\u001b[0;32m      5\u001b[0m     \u001b[0mprint\u001b[0m\u001b[1;33m(\u001b[0m\u001b[0mname\u001b[0m\u001b[1;33m[\u001b[0m\u001b[1;36m2\u001b[0m\u001b[1;33m]\u001b[0m\u001b[1;33m)\u001b[0m\u001b[1;33m\u001b[0m\u001b[1;33m\u001b[0m\u001b[0m\n\u001b[0;32m      6\u001b[0m     \u001b[0mprint\u001b[0m\u001b[1;33m(\u001b[0m\u001b[0mname1\u001b[0m\u001b[1;33m[\u001b[0m\u001b[1;36m4\u001b[0m\u001b[1;33m]\u001b[0m\u001b[1;33m)\u001b[0m\u001b[1;33m\u001b[0m\u001b[1;33m\u001b[0m\u001b[0m\n\u001b[1;32m----> 7\u001b[1;33m \u001b[0mrequired_arg\u001b[0m\u001b[1;33m(\u001b[0m\u001b[1;33m)\u001b[0m\u001b[1;33m\u001b[0m\u001b[1;33m\u001b[0m\u001b[0m\n\u001b[0m",
      "\u001b[1;31mTypeError\u001b[0m: required_arg() missing 2 required positional arguments: 'name' and 'name1'"
     ]
    }
   ],
   "source": [
    "#required arg\n",
    "name = input()\n",
    "name1 = input()\n",
    "def required_arg(name,name1):\n",
    "    print(name[2])\n",
    "    print(name1[4])\n",
    "required_arg()"
   ]
  },
  {
   "cell_type": "code",
   "execution_count": 19,
   "metadata": {},
   "outputs": [
    {
     "name": "stdout",
     "output_type": "stream",
     "text": [
      "archana\n",
      "elisala\n",
      "c\n",
      "a\n"
     ]
    }
   ],
   "source": [
    "#required arg\n",
    "name = input()\n",
    "name1 = input()\n",
    "def required_arg(name,name1):\n",
    "    print(name[2])\n",
    "    print(name1[4])\n",
    "required_arg(name,name1)"
   ]
  },
  {
   "cell_type": "code",
   "execution_count": 20,
   "metadata": {},
   "outputs": [
    {
     "ename": "NameError",
     "evalue": "name 'name2' is not defined",
     "output_type": "error",
     "traceback": [
      "\u001b[1;31m---------------------------------------------------------------------------\u001b[0m",
      "\u001b[1;31mNameError\u001b[0m                                 Traceback (most recent call last)",
      "\u001b[1;32m<ipython-input-20-9a385cc01d4b>\u001b[0m in \u001b[0;36m<module>\u001b[1;34m\u001b[0m\n\u001b[0;32m      3\u001b[0m     \u001b[0mprint\u001b[0m\u001b[1;33m(\u001b[0m\u001b[0mname2\u001b[0m\u001b[1;33m[\u001b[0m\u001b[1;36m2\u001b[0m\u001b[1;33m]\u001b[0m\u001b[1;33m)\u001b[0m\u001b[1;33m\u001b[0m\u001b[1;33m\u001b[0m\u001b[0m\n\u001b[0;32m      4\u001b[0m     \u001b[0mprint\u001b[0m\u001b[1;33m(\u001b[0m\u001b[0mname3\u001b[0m\u001b[1;33m[\u001b[0m\u001b[1;36m4\u001b[0m\u001b[1;33m]\u001b[0m\u001b[1;33m)\u001b[0m\u001b[1;33m\u001b[0m\u001b[1;33m\u001b[0m\u001b[0m\n\u001b[1;32m----> 5\u001b[1;33m \u001b[0mrequired_arg\u001b[0m\u001b[1;33m(\u001b[0m\u001b[0mname2\u001b[0m\u001b[1;33m,\u001b[0m\u001b[0mname3\u001b[0m\u001b[1;33m)\u001b[0m\u001b[1;33m\u001b[0m\u001b[1;33m\u001b[0m\u001b[0m\n\u001b[0m",
      "\u001b[1;31mNameError\u001b[0m: name 'name2' is not defined"
     ]
    }
   ],
   "source": [
    "#required arg\n",
    "def required_arg(name2,name3):\n",
    "    print(name2[2])\n",
    "    print(name3[4])\n",
    "required_arg(name2,name3)"
   ]
  },
  {
   "cell_type": "code",
   "execution_count": 21,
   "metadata": {},
   "outputs": [
    {
     "name": "stdout",
     "output_type": "stream",
     "text": [
      "t\n",
      "d\n"
     ]
    }
   ],
   "source": [
    "#required arg\n",
    "def required_arg(name2,name3):\n",
    "    print(name2[2])\n",
    "    print(name3[4])\n",
    "required_arg('python','apssdc')"
   ]
  },
  {
   "cell_type": "code",
   "execution_count": 37,
   "metadata": {},
   "outputs": [
    {
     "name": "stdout",
     "output_type": "stream",
     "text": [
      "t\n",
      "d\n"
     ]
    }
   ],
   "source": [
    "#required arg\n",
    "def required_arg(name2,name3):\n",
    "    print(name2[2])\n",
    "    print(name3[4])\n",
    "required_arg('python','apssdc')"
   ]
  },
  {
   "cell_type": "code",
   "execution_count": 24,
   "metadata": {},
   "outputs": [
    {
     "name": "stdout",
     "output_type": "stream",
     "text": [
      "power is 1000\n"
     ]
    }
   ],
   "source": [
    "#default arg\n",
    "def default(a,b=4):\n",
    "    print(\"power is\",a**b)\n",
    "default(10,3)"
   ]
  },
  {
   "cell_type": "code",
   "execution_count": 25,
   "metadata": {},
   "outputs": [
    {
     "name": "stdout",
     "output_type": "stream",
     "text": [
      "power is 10000\n"
     ]
    }
   ],
   "source": [
    "#default arg\n",
    "def default(a,b=4):\n",
    "    print(\"power is\",a**b)\n",
    "default(10)"
   ]
  },
  {
   "cell_type": "code",
   "execution_count": 27,
   "metadata": {},
   "outputs": [
    {
     "name": "stdout",
     "output_type": "stream",
     "text": [
      "A\n",
      "E\n"
     ]
    }
   ],
   "source": [
    "def default2(s,s1='ONLINE'):\n",
    "    print(s[0])\n",
    "    print(s1[-1])\n",
    "default2('Archana')"
   ]
  },
  {
   "cell_type": "code",
   "execution_count": 30,
   "metadata": {},
   "outputs": [
    {
     "name": "stdout",
     "output_type": "stream",
     "text": [
      "A\n"
     ]
    },
    {
     "ename": "TypeError",
     "evalue": "'int' object is not subscriptable",
     "output_type": "error",
     "traceback": [
      "\u001b[1;31m---------------------------------------------------------------------------\u001b[0m",
      "\u001b[1;31mTypeError\u001b[0m                                 Traceback (most recent call last)",
      "\u001b[1;32m<ipython-input-30-3f95655122e6>\u001b[0m in \u001b[0;36m<module>\u001b[1;34m\u001b[0m\n\u001b[0;32m      2\u001b[0m     \u001b[0mprint\u001b[0m\u001b[1;33m(\u001b[0m\u001b[0ms\u001b[0m\u001b[1;33m[\u001b[0m\u001b[1;36m0\u001b[0m\u001b[1;33m]\u001b[0m\u001b[1;33m)\u001b[0m\u001b[1;33m\u001b[0m\u001b[1;33m\u001b[0m\u001b[0m\n\u001b[0;32m      3\u001b[0m     \u001b[0mprint\u001b[0m\u001b[1;33m(\u001b[0m\u001b[0ms1\u001b[0m\u001b[1;33m[\u001b[0m\u001b[1;33m-\u001b[0m\u001b[1;36m1\u001b[0m\u001b[1;33m]\u001b[0m\u001b[1;33m)\u001b[0m\u001b[1;33m\u001b[0m\u001b[1;33m\u001b[0m\u001b[0m\n\u001b[1;32m----> 4\u001b[1;33m \u001b[0mdefault2\u001b[0m\u001b[1;33m(\u001b[0m\u001b[1;34m'Archana'\u001b[0m\u001b[1;33m)\u001b[0m\u001b[1;33m\u001b[0m\u001b[1;33m\u001b[0m\u001b[0m\n\u001b[0m",
      "\u001b[1;32m<ipython-input-30-3f95655122e6>\u001b[0m in \u001b[0;36mdefault2\u001b[1;34m(s, s1)\u001b[0m\n\u001b[0;32m      1\u001b[0m \u001b[1;32mdef\u001b[0m \u001b[0mdefault2\u001b[0m\u001b[1;33m(\u001b[0m\u001b[0ms\u001b[0m\u001b[1;33m,\u001b[0m\u001b[0ms1\u001b[0m\u001b[1;33m=\u001b[0m\u001b[1;36m45\u001b[0m\u001b[1;33m)\u001b[0m\u001b[1;33m:\u001b[0m\u001b[1;33m\u001b[0m\u001b[1;33m\u001b[0m\u001b[0m\n\u001b[0;32m      2\u001b[0m     \u001b[0mprint\u001b[0m\u001b[1;33m(\u001b[0m\u001b[0ms\u001b[0m\u001b[1;33m[\u001b[0m\u001b[1;36m0\u001b[0m\u001b[1;33m]\u001b[0m\u001b[1;33m)\u001b[0m\u001b[1;33m\u001b[0m\u001b[1;33m\u001b[0m\u001b[0m\n\u001b[1;32m----> 3\u001b[1;33m     \u001b[0mprint\u001b[0m\u001b[1;33m(\u001b[0m\u001b[0ms1\u001b[0m\u001b[1;33m[\u001b[0m\u001b[1;33m-\u001b[0m\u001b[1;36m1\u001b[0m\u001b[1;33m]\u001b[0m\u001b[1;33m)\u001b[0m\u001b[1;33m\u001b[0m\u001b[1;33m\u001b[0m\u001b[0m\n\u001b[0m\u001b[0;32m      4\u001b[0m \u001b[0mdefault2\u001b[0m\u001b[1;33m(\u001b[0m\u001b[1;34m'Archana'\u001b[0m\u001b[1;33m)\u001b[0m\u001b[1;33m\u001b[0m\u001b[1;33m\u001b[0m\u001b[0m\n",
      "\u001b[1;31mTypeError\u001b[0m: 'int' object is not subscriptable"
     ]
    }
   ],
   "source": [
    "def default2(s,s1=45):\n",
    "    print(s[0])\n",
    "    print(s1[-1])\n",
    "default2('Archana')"
   ]
  },
  {
   "cell_type": "code",
   "execution_count": 32,
   "metadata": {},
   "outputs": [
    {
     "name": "stdout",
     "output_type": "stream",
     "text": [
      "Name is: Árchana \n",
      "Branch is: CSE \n",
      "Rollnum is: 540\n"
     ]
    }
   ],
   "source": [
    "#keyword arg\n",
    "def keyword(name,branch,roll):\n",
    "    print(\"Name is:\",name,'\\nBranch is:',branch,'\\nRollnum is:',roll)\n",
    "keyword('Árchana','CSE',540)"
   ]
  },
  {
   "cell_type": "code",
   "execution_count": 33,
   "metadata": {},
   "outputs": [
    {
     "name": "stdout",
     "output_type": "stream",
     "text": [
      "Name is: CSE \n",
      "Branch is: 540 \n",
      "Rollnum is: Árchana\n"
     ]
    }
   ],
   "source": [
    "#keyword arg\n",
    "def keyword(name,branch,roll):\n",
    "    print(\"Name is:\",name,'\\nBranch is:',branch,'\\nRollnum is:',roll)\n",
    "keyword('CSE',540,'Árchana')"
   ]
  },
  {
   "cell_type": "code",
   "execution_count": 34,
   "metadata": {},
   "outputs": [
    {
     "name": "stdout",
     "output_type": "stream",
     "text": [
      "Name is: Árchana \n",
      "Branch is: CSE \n",
      "Rollnum is: 540\n"
     ]
    }
   ],
   "source": [
    "#keyword arg\n",
    "def keyword(name,branch,roll):\n",
    "    print(\"Name is:\",name,'\\nBranch is:',branch,'\\nRollnum is:',roll)\n",
    "keyword(branch='CSE',roll=540,name='Árchana')"
   ]
  },
  {
   "cell_type": "code",
   "execution_count": 41,
   "metadata": {},
   "outputs": [
    {
     "name": "stdout",
     "output_type": "stream",
     "text": [
      "chintala\n"
     ]
    }
   ],
   "source": [
    "#variable length\n",
    "def variable(*Arg):\n",
    "    print(Arg[-1])\n",
    "variable('Archana','elisala','vidya','chintala')"
   ]
  },
  {
   "cell_type": "code",
   "execution_count": 42,
   "metadata": {},
   "outputs": [
    {
     "name": "stdout",
     "output_type": "stream",
     "text": [
      "ishusweety\n"
     ]
    }
   ],
   "source": [
    "def variable2(*kid):\n",
    "    print(kid[1]+kid[2])\n",
    "    \n",
    "variable2('princy','ishu','sweety','blessy')"
   ]
  },
  {
   "cell_type": "code",
   "execution_count": 43,
   "metadata": {},
   "outputs": [
    {
     "name": "stdout",
     "output_type": "stream",
     "text": [
      "archana python\n"
     ]
    },
    {
     "data": {
      "text/plain": [
       "['archana', 'python']"
      ]
     },
     "execution_count": 43,
     "metadata": {},
     "output_type": "execute_result"
    }
   ],
   "source": [
    "l = input().split()\n",
    "l"
   ]
  },
  {
   "cell_type": "code",
   "execution_count": 46,
   "metadata": {},
   "outputs": [
    {
     "name": "stdout",
     "output_type": "stream",
     "text": [
      "archanapython\n"
     ]
    }
   ],
   "source": [
    "def variable2(*kid):\n",
    "    print(l[0]+l[1])\n",
    "variable2(l)"
   ]
  },
  {
   "cell_type": "code",
   "execution_count": 47,
   "metadata": {},
   "outputs": [
    {
     "name": "stdout",
     "output_type": "stream",
     "text": [
      "archana python online\n",
      "a\n",
      "p\n",
      "o\n"
     ]
    }
   ],
   "source": [
    "def charaprinting(*arg):\n",
    "    for i in s:\n",
    "        print(i[0])\n",
    "s = input().split()\n",
    "charaprinting(s)"
   ]
  },
  {
   "cell_type": "code",
   "execution_count": null,
   "metadata": {},
   "outputs": [],
   "source": [
    "n = ['archana','python','online','py','abc']\n",
    "even = pop\n",
    "odd = ac"
   ]
  },
  {
   "cell_type": "code",
   "execution_count": null,
   "metadata": {},
   "outputs": [],
   "source": [
    "#map\n",
    "1. data type conversion\n",
    "2. iterating iterable over the function"
   ]
  },
  {
   "cell_type": "code",
   "execution_count": null,
   "metadata": {},
   "outputs": [],
   "source": [
    "map('1','2')\n",
    "data type conversion ---> 1. data type\n",
    "                          2. input\n",
    "iterating iterable over the function --> 1. function_name\n",
    "                                         2. input"
   ]
  },
  {
   "cell_type": "code",
   "execution_count": null,
   "metadata": {},
   "outputs": [],
   "source": [
    "#1. data type conversion"
   ]
  },
  {
   "cell_type": "code",
   "execution_count": 48,
   "metadata": {},
   "outputs": [
    {
     "name": "stdout",
     "output_type": "stream",
     "text": [
      "a b c d e f\n"
     ]
    },
    {
     "data": {
      "text/plain": [
       "['a', 'b', 'c', 'd', 'e', 'f']"
      ]
     },
     "execution_count": 48,
     "metadata": {},
     "output_type": "execute_result"
    }
   ],
   "source": [
    "n = input().split()\n",
    "n"
   ]
  },
  {
   "cell_type": "code",
   "execution_count": 49,
   "metadata": {},
   "outputs": [
    {
     "name": "stdout",
     "output_type": "stream",
     "text": [
      "1 2 3 4 5 6\n"
     ]
    },
    {
     "data": {
      "text/plain": [
       "['1', '2', '3', '4', '5', '6']"
      ]
     },
     "execution_count": 49,
     "metadata": {},
     "output_type": "execute_result"
    }
   ],
   "source": [
    "n = input().split()\n",
    "n"
   ]
  },
  {
   "cell_type": "code",
   "execution_count": 50,
   "metadata": {},
   "outputs": [
    {
     "name": "stdout",
     "output_type": "stream",
     "text": [
      "1.2 3.4 5.6 6.7 8.9\n"
     ]
    },
    {
     "data": {
      "text/plain": [
       "['1.2', '3.4', '5.6', '6.7', '8.9']"
      ]
     },
     "execution_count": 50,
     "metadata": {},
     "output_type": "execute_result"
    }
   ],
   "source": [
    "n = input().split()\n",
    "n"
   ]
  },
  {
   "cell_type": "code",
   "execution_count": 51,
   "metadata": {},
   "outputs": [
    {
     "data": {
      "text/plain": [
       "123"
      ]
     },
     "execution_count": 51,
     "metadata": {},
     "output_type": "execute_result"
    }
   ],
   "source": [
    "n = '123'\n",
    "n1 = int(n)\n",
    "n1"
   ]
  },
  {
   "cell_type": "code",
   "execution_count": 52,
   "metadata": {},
   "outputs": [
    {
     "name": "stdout",
     "output_type": "stream",
     "text": [
      "1 2 3 4 5 6 7\n"
     ]
    },
    {
     "data": {
      "text/plain": [
       "['1', '2', '3', '4', '5', '6', '7']"
      ]
     },
     "execution_count": 52,
     "metadata": {},
     "output_type": "execute_result"
    }
   ],
   "source": [
    "n = input().split()\n",
    "n"
   ]
  },
  {
   "cell_type": "code",
   "execution_count": 54,
   "metadata": {},
   "outputs": [
    {
     "data": {
      "text/plain": [
       "[1, 2, 3, 4, 5, 6, 7]"
      ]
     },
     "execution_count": 54,
     "metadata": {},
     "output_type": "execute_result"
    }
   ],
   "source": [
    "converted_values = list(map(int,n))\n",
    "converted_values"
   ]
  },
  {
   "cell_type": "code",
   "execution_count": 55,
   "metadata": {},
   "outputs": [
    {
     "data": {
      "text/plain": [
       "[1.0, 2.0, 3.0, 4.0, 5.0, 6.0, 7.0]"
      ]
     },
     "execution_count": 55,
     "metadata": {},
     "output_type": "execute_result"
    }
   ],
   "source": [
    "converted_values = list(map(float,n))\n",
    "converted_values"
   ]
  },
  {
   "cell_type": "code",
   "execution_count": 56,
   "metadata": {},
   "outputs": [
    {
     "name": "stdout",
     "output_type": "stream",
     "text": [
      "1 2 3 4 5 6 7 8\n"
     ]
    },
    {
     "data": {
      "text/plain": [
       "[1, 2, 3, 4, 5, 6, 7, 8]"
      ]
     },
     "execution_count": 56,
     "metadata": {},
     "output_type": "execute_result"
    }
   ],
   "source": [
    "list_ = list(map(int,input().split()))\n",
    "list_"
   ]
  },
  {
   "cell_type": "code",
   "execution_count": 57,
   "metadata": {},
   "outputs": [
    {
     "name": "stdout",
     "output_type": "stream",
     "text": [
      "1 2 3.65 3.6 2 4.7 7\n"
     ]
    },
    {
     "data": {
      "text/plain": [
       "[1.0, 2.0, 3.65, 3.6, 2.0, 4.7, 7.0]"
      ]
     },
     "execution_count": 57,
     "metadata": {},
     "output_type": "execute_result"
    }
   ],
   "source": [
    "list_ = list(map(float,input().split()))\n",
    "list_"
   ]
  },
  {
   "cell_type": "code",
   "execution_count": 58,
   "metadata": {},
   "outputs": [
    {
     "data": {
      "text/plain": [
       "[False, True, False, True, False, True, False, True, False]"
      ]
     },
     "execution_count": 58,
     "metadata": {},
     "output_type": "execute_result"
    }
   ],
   "source": [
    "#2. iterating iterable over the function\n",
    "def even(n):\n",
    "    if n%2 == 0:\n",
    "        return True\n",
    "    return False\n",
    "l = list(map(even,[1,2,3,4,5,6,7,8,9]))\n",
    "l"
   ]
  },
  {
   "cell_type": "code",
   "execution_count": 59,
   "metadata": {},
   "outputs": [
    {
     "data": {
      "text/plain": [
       "[None, True, None, True, None, True, None, True, None]"
      ]
     },
     "execution_count": 59,
     "metadata": {},
     "output_type": "execute_result"
    }
   ],
   "source": [
    "#2. iterating iterable over the function\n",
    "def even(n):\n",
    "    if n%2 == 0:\n",
    "        return True\n",
    "l = list(map(even,[1,2,3,4,5,6,7,8,9]))\n",
    "l"
   ]
  },
  {
   "cell_type": "code",
   "execution_count": 61,
   "metadata": {},
   "outputs": [
    {
     "data": {
      "text/plain": [
       "[None, 'eligible', 'eligible', 'eligible', None, None, 'eligible', 'eligible']"
      ]
     },
     "execution_count": 61,
     "metadata": {},
     "output_type": "execute_result"
    }
   ],
   "source": [
    "def voting(n):\n",
    "    if n>18:\n",
    "        return 'eligible'\n",
    "n = list(map(voting,[12,45,67,43,13,15,67,89]))\n",
    "n\n"
   ]
  },
  {
   "cell_type": "code",
   "execution_count": 62,
   "metadata": {
    "collapsed": true
   },
   "outputs": [
    {
     "data": {
      "text/plain": [
       "['not eligible',\n",
       " 'eligible',\n",
       " 'eligible',\n",
       " 'eligible',\n",
       " 'not eligible',\n",
       " 'not eligible',\n",
       " 'eligible',\n",
       " 'eligible']"
      ]
     },
     "execution_count": 62,
     "metadata": {},
     "output_type": "execute_result"
    }
   ],
   "source": [
    "def voting(n):\n",
    "    if n>18:\n",
    "        return 'eligible'\n",
    "    return 'not eligible'\n",
    "n = list(map(voting,[12,45,67,43,13,15,67,89]))\n",
    "n\n"
   ]
  },
  {
   "cell_type": "code",
   "execution_count": 65,
   "metadata": {},
   "outputs": [
    {
     "data": {
      "text/plain": [
       "[45, 67, 43, 67, 89]"
      ]
     },
     "execution_count": 65,
     "metadata": {},
     "output_type": "execute_result"
    }
   ],
   "source": [
    "def voting(n):\n",
    "    if n>18:\n",
    "        return True\n",
    "n = list(filter(voting,[12,45,67,43,13,15,67,89]))\n",
    "n"
   ]
  },
  {
   "cell_type": "code",
   "execution_count": 66,
   "metadata": {},
   "outputs": [
    {
     "data": {
      "text/plain": [
       "[45, 67, 43, 67, 89]"
      ]
     },
     "execution_count": 66,
     "metadata": {},
     "output_type": "execute_result"
    }
   ],
   "source": [
    "def voting(n):\n",
    "    if n>18:\n",
    "        return True\n",
    "    return False\n",
    "n = list(filter(voting,[12,45,67,43,13,15,67,89]))\n",
    "n"
   ]
  },
  {
   "cell_type": "code",
   "execution_count": 67,
   "metadata": {},
   "outputs": [
    {
     "data": {
      "text/plain": [
       "['odd', 'python', 'online', 'apssdc']"
      ]
     },
     "execution_count": 67,
     "metadata": {},
     "output_type": "execute_result"
    }
   ],
   "source": [
    "def lengths(n):\n",
    "    if len(n)%2 == 0:\n",
    "        return n\n",
    "    return \"odd\"\n",
    "res = list(map(lengths,['archana','python','online','apssdc']))\n",
    "res"
   ]
  },
  {
   "cell_type": "code",
   "execution_count": 69,
   "metadata": {},
   "outputs": [
    {
     "data": {
      "text/plain": [
       "['python', 'online', 'apssdc']"
      ]
     },
     "execution_count": 69,
     "metadata": {},
     "output_type": "execute_result"
    }
   ],
   "source": [
    "def lengths(n):\n",
    "    if len(n)%2 == 0:\n",
    "        return n\n",
    "    return False\n",
    "res = list(filter(lengths,['archana','python','online','apssdc']))\n",
    "res"
   ]
  },
  {
   "cell_type": "code",
   "execution_count": 70,
   "metadata": {},
   "outputs": [
    {
     "data": {
      "text/plain": [
       "['python', 'online', 'apssdc']"
      ]
     },
     "execution_count": 70,
     "metadata": {},
     "output_type": "execute_result"
    }
   ],
   "source": [
    "def lengths(n):\n",
    "    if len(n)%2 == 0:\n",
    "        return True\n",
    "    return False\n",
    "res = list(filter(lengths,['archana','python','online','apssdc']))\n",
    "res"
   ]
  },
  {
   "cell_type": "code",
   "execution_count": 71,
   "metadata": {},
   "outputs": [
    {
     "data": {
      "text/plain": [
       "['python', 'online', 'apssdc']"
      ]
     },
     "execution_count": 71,
     "metadata": {},
     "output_type": "execute_result"
    }
   ],
   "source": [
    "def lengths(n):\n",
    "    if len(n)%2 == 0:\n",
    "        return True\n",
    "res = list(filter(lengths,['archana','python','online','apssdc']))\n",
    "res"
   ]
  },
  {
   "cell_type": "code",
   "execution_count": 74,
   "metadata": {},
   "outputs": [
    {
     "name": "stdout",
     "output_type": "stream",
     "text": [
      "abc abd abcd python abcde online\n",
      "apo\n",
      "cde\n"
     ]
    }
   ],
   "source": [
    "n = input().split()\n",
    "even = \"\"\n",
    "odd = ''\n",
    "for i in n:\n",
    "    if len(i)%2 == 0:\n",
    "        even += i[0]\n",
    "    else:\n",
    "        odd += i[-1]\n",
    "print(even)\n",
    "print(odd)"
   ]
  },
  {
   "cell_type": "code",
   "execution_count": 75,
   "metadata": {},
   "outputs": [
    {
     "name": "stdout",
     "output_type": "stream",
     "text": [
      "abc abd abcd python abcde online\n",
      "apo\n",
      "cde\n"
     ]
    }
   ],
   "source": [
    "def string_ex(n):\n",
    "    even = \"\"\n",
    "    odd = ''\n",
    "    for i in n:\n",
    "        if len(i)%2 == 0:\n",
    "            even += i[0]\n",
    "        else:\n",
    "            odd += i[-1]\n",
    "    print(even)\n",
    "    print(odd)\n",
    "n = input().split()\n",
    "string_ex(n)"
   ]
  },
  {
   "cell_type": "code",
   "execution_count": null,
   "metadata": {},
   "outputs": [],
   "source": []
  }
 ],
 "metadata": {
  "kernelspec": {
   "display_name": "Python 3",
   "language": "python",
   "name": "python3"
  },
  "language_info": {
   "codemirror_mode": {
    "name": "ipython",
    "version": 3
   },
   "file_extension": ".py",
   "mimetype": "text/x-python",
   "name": "python",
   "nbconvert_exporter": "python",
   "pygments_lexer": "ipython3",
   "version": "3.7.3"
  }
 },
 "nbformat": 4,
 "nbformat_minor": 2
}

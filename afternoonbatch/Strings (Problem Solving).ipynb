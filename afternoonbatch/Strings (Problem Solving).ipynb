{
 "cells": [
  {
   "cell_type": "code",
   "execution_count": 16,
   "metadata": {},
   "outputs": [
    {
     "name": "stdout",
     "output_type": "stream",
     "text": [
      "ury\n",
      "ssd\n"
     ]
    }
   ],
   "source": [
    "# Problem Solving:\n",
    "#1. Given a string of odd length greater 7, return a string made of the middle three chars of a given String\n",
    "def middilestring(s1):\n",
    "    midindex = int(len(s1)/2)\n",
    "    #print(midindex)\n",
    "    midstr = s1[midindex-1:midindex+2]\n",
    "    print(midstr)\n",
    "    \n",
    "middilestring(\"Surya\")\n",
    "middilestring(\"apssdc\")\n"
   ]
  },
  {
   "cell_type": "code",
   "execution_count": null,
   "metadata": {},
   "outputs": [],
   "source": []
  },
  {
   "cell_type": "code",
   "execution_count": null,
   "metadata": {},
   "outputs": [],
   "source": []
  }
 ],
 "metadata": {
  "kernelspec": {
   "display_name": "Python 3",
   "language": "python",
   "name": "python3"
  },
  "language_info": {
   "codemirror_mode": {
    "name": "ipython",
    "version": 3
   },
   "file_extension": ".py",
   "mimetype": "text/x-python",
   "name": "python",
   "nbconvert_exporter": "python",
   "pygments_lexer": "ipython3",
   "version": "3.7.3"
  }
 },
 "nbformat": 4,
 "nbformat_minor": 2
}

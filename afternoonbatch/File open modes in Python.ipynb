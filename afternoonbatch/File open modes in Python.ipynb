{
 "cells": [
  {
   "cell_type": "code",
   "execution_count": null,
   "metadata": {},
   "outputs": [],
   "source": [
    "#MODES                  DESCRIPTION\n",
    "<r>\t                    It opens a file in read-only mode while the file offset stays at the root.\n",
    "<rb>\t                It opens a file in (binary + read-only) modes. And the offset remains at the root level.\n",
    "<r+>\t                It opens the file in both (read + write) modes while the file offset is again at the root level.\n",
    "<rb+>\t                It opens the file in (read + write + binary) modes. The file offset is again at the root level.\n",
    "<w>\t                    It allows write-level access to a file. If the file already exists, \n",
    "                        then it’ll get overwritten. It’ll create a new file if the same doesn’t exist.\n",
    "    \n",
    "<wb>\t                Use it to open a file for writing in binary format. Same behavior as for write-only mode.\n",
    "<w+>\t                It opens a file in both (read + write) modes. Same behavior as for write-only mode.\n",
    "<wb+>\t                It opens a file in (read + write + binary) modes. Same behavior as for write-only mode.\n",
    "<a>\t                    It opens the file in append mode. The offset goes to the end of the file. \n",
    "                        If the file doesn’t exist, then it gets created.\n",
    "    \n",
    "<ab>\t                It opens a file in (append + binary) modes. Same behavior as for append mode.\n",
    "<a+>\t                It opens a file in (append + read) modes. Same behavior as for append mode.\n",
    "<ab+>\t                It opens a file in (append + read + binary) modes. Same behavior as for append mode."
   ]
  },
  {
   "cell_type": "code",
   "execution_count": null,
   "metadata": {},
   "outputs": [],
   "source": [
    "The mode in the open function syntax will tell Python as what operation you want to do on a file.\n",
    "\n",
    "#‘r' – Read Mode: Read mode is used only to read data from the file.\n",
    "#‘w' – Write Mode: This mode is used when you want to write data into the file or modify it. Remember write mode overwrites the data present in the file.\n",
    "#‘a' – Append Mode: Append mode is used to append data to the file. Remember data will be appended at the end of the file pointer.\n",
    "#‘r+' – Read or Write Mode: This mode is used when we want to write or read the data from the same file.\n",
    "#‘a+' – Append or Read Mode: This mode is used when we want to read data from the file or append the data into the same file."
   ]
  },
  {
   "cell_type": "code",
   "execution_count": null,
   "metadata": {},
   "outputs": [],
   "source": [
    "#The Python file object attributes:\n",
    "#Attribute                   \tDescription\n",
    "<file.closed>\t             For a closed file, it returns true whereas false otherwise.\n",
    "<file.mode>\t                 It returns the access mode used to open a file.\n",
    "<file.name>\t                 Returns the name of a file\n",
    "<file.softspace>\t         It returns a boolean to suggest \n",
    "                             if a space char will get added before printing another value in the output of a <print> command."
   ]
  },
  {
   "cell_type": "code",
   "execution_count": null,
   "metadata": {},
   "outputs": [],
   "source": [
    "#Text Files:\n",
    "Web standards: html, XML, CSS, JSON etc.\n",
    "Source code: c, app, js, py, java etc.\n",
    "Documents: txt, tex, RTF etc.\n",
    "Tabular data: csv, tsv etc.\n",
    "Configuration: ini, cfg, reg etc."
   ]
  },
  {
   "cell_type": "code",
   "execution_count": null,
   "metadata": {},
   "outputs": [],
   "source": [
    "Binary files in Python\n",
    "Most of the files that we see in our computer system are called binary files.\n",
    "\n",
    "Example:\n",
    "\n",
    "Document files: .pdf, .doc, .xls etc.\n",
    "Image files: .png, .jpg, .gif, .bmp etc.\n",
    "Video files: .mp4, .3gp, .mkv, .avi etc.\n",
    "Audio files: .mp3, .wav, .mka, .aac etc.\n",
    "Database files: .mdb, .accde, .frm, .sqlite etc.\n",
    "Archive files: .zip, .rar, .iso, .7z etc.\n",
    "Executable files: .exe, .dll, .class etc."
   ]
  },
  {
   "cell_type": "code",
   "execution_count": null,
   "metadata": {},
   "outputs": [],
   "source": [
    "#tell() method which prints where the cursor is currently at.\n",
    "\n",
    "#seek(offset): The offset takes three types of arguments namely 0,1 and 2.\n",
    "When the offset is 0: Reference will be pointed at the beginning of the file.\n",
    "When the offset is 1: Reference will be pointed at the current cursor position.\n",
    "When the offset is 2: Reference will be pointed at the end of the file."
   ]
  },
  {
   "cell_type": "code",
   "execution_count": null,
   "metadata": {},
   "outputs": [],
   "source": [
    "#Python File object methods\n",
    "So far, we’ve only shared with you a few of the functions that you can use for file handling in Python. But there is more to the story of Python file handling.\n",
    "\n",
    "Python’s open() method returns an object which we call as the filehandle. Python adds a no. of functions that we can call using this object.\n",
    "\n",
    "Function\tDescription\n",
    "<file.close()>\tClose the file. You need to reopen it for further access.\n",
    "<file.flush()>\tFlush the internal buffer. It’s same as the <stdio>’s <fflush()> function.\n",
    "<file.fileno()>\tReturns an integer file descriptor.\n",
    "<file.isatty()>\tIt returns true if file has a <tty> attached to it.\n",
    "<file.next()>\tReturns the next line from the last offset.\n",
    "<file.read(size)>\tReads the given no. of bytes. It may read less if EOF is hit.\n",
    "<file.readline(size)>\tIt’ll read an entire line (trailing with a new line char) from the file.\n",
    "<file.readlines(size_hint)>\tIt calls the <readline()> to read until EOF. It returns a list of lines read from the file. If you pass <size_hint>, then it reads lines equalling the <size_hint> bytes.\n",
    "<file.seek(offset[, from])>\tSets the file’s current position.\n",
    "<file.tell()>\tReturns the file’s current position.\n",
    "<file.truncate(size)>\tTruncates the file’s size. If the optional size argument is present, the file is truncated to (at most) that size.\n",
    "<file.write(string)>\tIt writes a string to the file. And it doesn’t return any value.\n",
    "<file.writelines(sequence)>\tWrites a sequence of strings to the file. The sequence is possibly an iterable object producing strings, typically a list of strings."
   ]
  },
  {
   "cell_type": "code",
   "execution_count": null,
   "metadata": {},
   "outputs": [],
   "source": []
  },
  {
   "cell_type": "code",
   "execution_count": null,
   "metadata": {},
   "outputs": [],
   "source": []
  },
  {
   "cell_type": "code",
   "execution_count": null,
   "metadata": {},
   "outputs": [],
   "source": []
  },
  {
   "cell_type": "code",
   "execution_count": null,
   "metadata": {},
   "outputs": [],
   "source": []
  },
  {
   "cell_type": "code",
   "execution_count": null,
   "metadata": {},
   "outputs": [],
   "source": []
  }
 ],
 "metadata": {
  "kernelspec": {
   "display_name": "Python 3",
   "language": "python",
   "name": "python3"
  },
  "language_info": {
   "codemirror_mode": {
    "name": "ipython",
    "version": 3
   },
   "file_extension": ".py",
   "mimetype": "text/x-python",
   "name": "python",
   "nbconvert_exporter": "python",
   "pygments_lexer": "ipython3",
   "version": "3.7.3"
  }
 },
 "nbformat": 4,
 "nbformat_minor": 2
}

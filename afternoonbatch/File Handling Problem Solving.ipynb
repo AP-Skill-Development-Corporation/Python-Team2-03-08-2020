{
 "cells": [
  {
   "cell_type": "code",
   "execution_count": null,
   "metadata": {},
   "outputs": [],
   "source": [
    "          # Problem Solving on File Handling #\n",
    "\n",
    "1. # Function to write data into file\n",
    "\n",
    "2. # Function which reads data from text file\n",
    "\n",
    "3. # Function which returns line count in text file\n",
    "\n",
    "4. # Function which returns no of words in a text file\n",
    "\n",
    "5. # Function which returns sum of numbers in a file\n",
    "\n",
    "6. # Function to Add User Details to input life.\n",
    "\n",
    "7. #Find the frequency of numbers b/w 0 to 9 in given list\n",
    "\n",
    "8. #Convert the given list to dictionary as given below\n",
    "   #input - [2,4,6,8,10]\n",
    "   #output - {2 : 4, 4 : 16, 6 : 36, 8 : 64, 10 : 100}\n"
   ]
  },
  {
   "cell_type": "code",
   "execution_count": null,
   "metadata": {},
   "outputs": [],
   "source": []
  },
  {
   "cell_type": "code",
   "execution_count": null,
   "metadata": {},
   "outputs": [],
   "source": []
  },
  {
   "cell_type": "code",
   "execution_count": null,
   "metadata": {},
   "outputs": [],
   "source": []
  },
  {
   "cell_type": "code",
   "execution_count": null,
   "metadata": {},
   "outputs": [],
   "source": []
  },
  {
   "cell_type": "code",
   "execution_count": null,
   "metadata": {},
   "outputs": [],
   "source": []
  },
  {
   "cell_type": "code",
   "execution_count": null,
   "metadata": {},
   "outputs": [],
   "source": []
  },
  {
   "cell_type": "code",
   "execution_count": null,
   "metadata": {},
   "outputs": [],
   "source": []
  }
 ],
 "metadata": {
  "kernelspec": {
   "display_name": "Python 3",
   "language": "python",
   "name": "python3"
  },
  "language_info": {
   "codemirror_mode": {
    "name": "ipython",
    "version": 3
   },
   "file_extension": ".py",
   "mimetype": "text/x-python",
   "name": "python",
   "nbconvert_exporter": "python",
   "pygments_lexer": "ipython3",
   "version": "3.7.3"
  }
 },
 "nbformat": 4,
 "nbformat_minor": 2
}

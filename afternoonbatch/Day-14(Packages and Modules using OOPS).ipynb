{
 "cells": [
  {
   "cell_type": "markdown",
   "metadata": {},
   "source": [
    "### Packages and Modules Using OOPs \n",
    "\n",
    "- Package:(Folder)\n",
    "- It is a collection of modules\n",
    "\n",
    "\n",
    "- Module:\n",
    "- .py files\n",
    "- collections/grouop of functions or classes\n",
    "- for accessing modules we are using\n",
    "    - import keyword\n",
    "- different ways for accessing modules\n",
    "    - import mymodule  (-->is a .py file)\n",
    "    - from mymodule import calc(classname)\n",
    "    - from mymodule.calc import add\n",
    "    - from mymodule.calc import *\n",
    "    \n"
   ]
  },
  {
   "cell_type": "code",
   "execution_count": 8,
   "metadata": {},
   "outputs": [
    {
     "name": "stdout",
     "output_type": "stream",
     "text": [
      "12\n",
      "-4\n"
     ]
    }
   ],
   "source": [
    "from mypackage.mymodule import *\n",
    "myobj=calc\n",
    "print(myobj.add(4,8))\n",
    "print(myobj.sub(4,8))"
   ]
  },
  {
   "cell_type": "code",
   "execution_count": 11,
   "metadata": {},
   "outputs": [
    {
     "name": "stdout",
     "output_type": "stream",
     "text": [
      "2000 leapyear\n",
      "2001 non leapyear\n",
      "2002 non leapyear\n",
      "2003 non leapyear\n",
      "2004 leapyear\n",
      "2005 non leapyear\n",
      "2006 non leapyear\n",
      "2007 non leapyear\n",
      "2008 leapyear\n",
      "2009 non leapyear\n",
      "2010 non leapyear\n",
      "2011 non leapyear\n",
      "2012 leapyear\n",
      "2013 non leapyear\n",
      "2014 non leapyear\n",
      "2015 non leapyear\n",
      "2016 leapyear\n",
      "2017 non leapyear\n",
      "2018 non leapyear\n",
      "2019 non leapyear\n",
      "2020 leapyear\n",
      "None\n"
     ]
    }
   ],
   "source": [
    "# with using class and object \n",
    "\n",
    "from mypackage.mymodule2 import*\n",
    "myobj1=classname\n",
    "print(myobj1.Leapyear(2000,2020))"
   ]
  },
  {
   "cell_type": "code",
   "execution_count": 17,
   "metadata": {},
   "outputs": [
    {
     "name": "stdout",
     "output_type": "stream",
     "text": [
      "2000 leapyear\n",
      "2001 non leapyear\n",
      "2002 non leapyear\n",
      "2003 non leapyear\n",
      "2004 leapyear\n",
      "2005 non leapyear\n",
      "2006 non leapyear\n",
      "2007 non leapyear\n",
      "2008 leapyear\n",
      "2009 non leapyear\n",
      "2010 non leapyear\n",
      "2011 non leapyear\n",
      "2012 leapyear\n",
      "2013 non leapyear\n",
      "2014 non leapyear\n",
      "2015 non leapyear\n",
      "2016 leapyear\n",
      "2017 non leapyear\n",
      "2018 non leapyear\n",
      "2019 non leapyear\n",
      "2020 leapyear\n",
      "None\n"
     ]
    }
   ],
   "source": [
    "# with out using class and object\n",
    "from mypackage.mymodule2 import*\n",
    "print(Leapyear(2000,2020))\n"
   ]
  },
  {
   "cell_type": "code",
   "execution_count": 22,
   "metadata": {},
   "outputs": [
    {
     "name": "stdout",
     "output_type": "stream",
     "text": [
      "12\n",
      "-4\n"
     ]
    }
   ],
   "source": [
    "from mypackage.mymodule import *\n",
    "myobj4=mycalc(4,8)\n",
    "print(myobj4.__add__())\n",
    "print(myobj4.__sub__())"
   ]
  },
  {
   "cell_type": "code",
   "execution_count": null,
   "metadata": {},
   "outputs": [],
   "source": []
  }
 ],
 "metadata": {
  "kernelspec": {
   "display_name": "Python 3",
   "language": "python",
   "name": "python3"
  },
  "language_info": {
   "codemirror_mode": {
    "name": "ipython",
    "version": 3
   },
   "file_extension": ".py",
   "mimetype": "text/x-python",
   "name": "python",
   "nbconvert_exporter": "python",
   "pygments_lexer": "ipython3",
   "version": "3.7.3"
  }
 },
 "nbformat": 4,
 "nbformat_minor": 2
}

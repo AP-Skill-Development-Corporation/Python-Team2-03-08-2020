{
 "cells": [
  {
   "cell_type": "code",
   "execution_count": null,
   "metadata": {},
   "outputs": [],
   "source": [
    "#Day-5\n",
    "#Agenda of Today Session:\n",
    "    1. Functions in Python\n",
    "    2. Problem Solving With Functions"
   ]
  },
  {
   "cell_type": "code",
   "execution_count": null,
   "metadata": {},
   "outputs": [],
   "source": [
    "# Definition:\n",
    "  set of related statements or block of code to perform a specific task.\n",
    "what is the use of functions?\n",
    "what are the functions?\n",
    "1. code reusablity\n",
    "2. avoids code repitation"
   ]
  },
  {
   "cell_type": "code",
   "execution_count": null,
   "metadata": {},
   "outputs": [],
   "source": [
    "# syntax:\n",
    "def funname(arguments): - called paramenters/ formal parameters\n",
    "    \"\"\"This is basic function\"\"\"\n",
    "    statements\n",
    "return\n",
    "funname(arguments) - calling parameters / actual parameters"
   ]
  },
  {
   "cell_type": "code",
   "execution_count": null,
   "metadata": {},
   "outputs": [],
   "source": [
    "1. 0-9 a-z A-Z _underscore\n",
    "dont use keywords as funnames,\n",
    "dont use special characters like #,@,!,%..etc"
   ]
  },
  {
   "cell_type": "code",
   "execution_count": null,
   "metadata": {},
   "outputs": [],
   "source": [
    "# Examples of Functions:\n",
    "def display(name):\n",
    "    \"\"\"This function is displays the name with some wish\"\"\"\n",
    "    print(\"Hello..\"+name+\" Good afternoon to all\")\n",
    "    return\n",
    "display(\"surya\")"
   ]
  },
  {
   "cell_type": "code",
   "execution_count": null,
   "metadata": {},
   "outputs": [],
   "source": [
    "print(display.__doc__)"
   ]
  },
  {
   "cell_type": "code",
   "execution_count": null,
   "metadata": {},
   "outputs": [],
   "source": [
    "# return statement:\n",
    "return [expression_list] - return a value\n",
    "return - return a None object\n"
   ]
  },
  {
   "cell_type": "code",
   "execution_count": null,
   "metadata": {},
   "outputs": [],
   "source": [
    "#Example of return:\n",
    "def abs_value(n):\n",
    "    \"\"\"This function gives the absolute value of given number\"\"\"\n",
    "    if n>=0:\n",
    "        return n\n",
    "    else:\n",
    "        return -n\n",
    "print(abs_value(5))\n",
    "print(abs_value(-90))"
   ]
  },
  {
   "cell_type": "code",
   "execution_count": null,
   "metadata": {},
   "outputs": [],
   "source": [
    "def first():\n",
    "    print(\"this is fist fun\")\n",
    "    return 3\n",
    "def second():\n",
    "    return 50* first()\n",
    "print(first())\n",
    "print(second())"
   ]
  },
  {
   "cell_type": "code",
   "execution_count": null,
   "metadata": {},
   "outputs": [],
   "source": [
    "def sum_of_3(x,y,z):\n",
    "    x = y+z\n",
    "    y = x+z\n",
    "    z = x+y\n",
    "    print(x,y,z)\n",
    "sum_of_3(40,50,90)"
   ]
  },
  {
   "cell_type": "code",
   "execution_count": null,
   "metadata": {},
   "outputs": [],
   "source": [
    "# scope of variables in functions\n",
    "# local and global variables"
   ]
  },
  {
   "cell_type": "code",
   "execution_count": null,
   "metadata": {},
   "outputs": [],
   "source": [
    "# local variable- defined within function block\n",
    "# gloabl variable- defined outside function block"
   ]
  },
  {
   "cell_type": "code",
   "execution_count": null,
   "metadata": {},
   "outputs": [],
   "source": [
    "#Example:\n",
    "def local_global(a):\n",
    "     #local variable\n",
    "    print(\"vale inside\",i)\n",
    "i = 500   # global variable\n",
    "local_global(int(input(\"enter i value\")))\n",
    "print(\"value outside\",i)"
   ]
  },
  {
   "cell_type": "code",
   "execution_count": null,
   "metadata": {},
   "outputs": [],
   "source": [
    "i"
   ]
  },
  {
   "cell_type": "code",
   "execution_count": null,
   "metadata": {},
   "outputs": [],
   "source": [
    "# Types of Functions:\n",
    "1. Built-in\n",
    "2. User-defined "
   ]
  },
  {
   "cell_type": "code",
   "execution_count": null,
   "metadata": {},
   "outputs": [],
   "source": [
    "#Predefined:\n",
    "int()\n",
    "input()\n",
    "float()\n",
    "str()\n",
    "len()"
   ]
  },
  {
   "cell_type": "code",
   "execution_count": null,
   "metadata": {},
   "outputs": [],
   "source": [
    "#abs()- its gives the absolute value\n",
    "abs(-5)"
   ]
  },
  {
   "cell_type": "code",
   "execution_count": null,
   "metadata": {},
   "outputs": [],
   "source": [
    "print(\"hello\")"
   ]
  },
  {
   "cell_type": "code",
   "execution_count": null,
   "metadata": {},
   "outputs": [],
   "source": [
    "any((0,1,0))"
   ]
  },
  {
   "cell_type": "code",
   "execution_count": null,
   "metadata": {},
   "outputs": [],
   "source": [
    "any([0,0,0])"
   ]
  },
  {
   "cell_type": "code",
   "execution_count": null,
   "metadata": {},
   "outputs": [],
   "source": [
    "bin(7)"
   ]
  },
  {
   "cell_type": "code",
   "execution_count": null,
   "metadata": {},
   "outputs": [],
   "source": [
    "bin(2)"
   ]
  },
  {
   "cell_type": "code",
   "execution_count": null,
   "metadata": {},
   "outputs": [],
   "source": [
    "bin(10)"
   ]
  },
  {
   "cell_type": "code",
   "execution_count": null,
   "metadata": {},
   "outputs": [],
   "source": [
    "bin(int(3.5))"
   ]
  },
  {
   "cell_type": "code",
   "execution_count": null,
   "metadata": {},
   "outputs": [],
   "source": [
    "type(\"apssdc\")"
   ]
  },
  {
   "cell_type": "code",
   "execution_count": null,
   "metadata": {},
   "outputs": [],
   "source": [
    "type(123)"
   ]
  },
  {
   "cell_type": "code",
   "execution_count": null,
   "metadata": {},
   "outputs": [],
   "source": [
    "help(list)"
   ]
  },
  {
   "cell_type": "code",
   "execution_count": null,
   "metadata": {},
   "outputs": [],
   "source": [
    "max([70,60,3])"
   ]
  },
  {
   "cell_type": "code",
   "execution_count": null,
   "metadata": {},
   "outputs": [],
   "source": [
    "min((2,0,1))"
   ]
  },
  {
   "cell_type": "code",
   "execution_count": null,
   "metadata": {},
   "outputs": [],
   "source": [
    "#enemerate()\n",
    "for i in enumerate([56,70,30]):\n",
    "    print(i)"
   ]
  },
  {
   "cell_type": "code",
   "execution_count": null,
   "metadata": {},
   "outputs": [],
   "source": [
    "#chr: its gives the character of given ascii values\n",
    "chr(65)"
   ]
  },
  {
   "cell_type": "code",
   "execution_count": null,
   "metadata": {},
   "outputs": [],
   "source": [
    "chr(122)"
   ]
  },
  {
   "cell_type": "code",
   "execution_count": null,
   "metadata": {},
   "outputs": [],
   "source": [
    "chr(97)"
   ]
  },
  {
   "cell_type": "code",
   "execution_count": null,
   "metadata": {},
   "outputs": [],
   "source": [
    "ord(\"A\")"
   ]
  },
  {
   "cell_type": "code",
   "execution_count": null,
   "metadata": {},
   "outputs": [],
   "source": [
    "ord(\"a\")"
   ]
  },
  {
   "cell_type": "code",
   "execution_count": null,
   "metadata": {},
   "outputs": [],
   "source": [
    "print(dir(list),end=\" \")"
   ]
  },
  {
   "cell_type": "code",
   "execution_count": null,
   "metadata": {},
   "outputs": [],
   "source": [
    "print(dir(set),end=\" \")"
   ]
  },
  {
   "cell_type": "code",
   "execution_count": null,
   "metadata": {},
   "outputs": [],
   "source": [
    "print(dir(tuple),end=\" \")"
   ]
  },
  {
   "cell_type": "code",
   "execution_count": null,
   "metadata": {},
   "outputs": [],
   "source": [
    "pow(3,5)"
   ]
  },
  {
   "cell_type": "code",
   "execution_count": null,
   "metadata": {},
   "outputs": [],
   "source": [
    "# User-Defined Functions:"
   ]
  },
  {
   "cell_type": "code",
   "execution_count": null,
   "metadata": {},
   "outputs": [],
   "source": [
    "#facorial of given number\n",
    "def fact(num):\n",
    "    if num < 0:\n",
    "        print(\"Fact is not possible\")\n",
    "    elif num==0:\n",
    "        print(\"factorial of 0 is 1\")\n",
    "    else:\n",
    "        fact=1\n",
    "        for i in range(1,num+1):\n",
    "            fact = fact*i\n",
    "        print(\"factorial of the\",fact)\n",
    "\n",
    "fact(num = int(input(\"enter a value\")))"
   ]
  },
  {
   "cell_type": "code",
   "execution_count": null,
   "metadata": {},
   "outputs": [],
   "source": [
    "import math\n",
    "#print(\"factorail of num is :\",end=\" \")\n",
    "print(math.factorial(5))"
   ]
  },
  {
   "cell_type": "code",
   "execution_count": null,
   "metadata": {},
   "outputs": [],
   "source": [
    "#Recursion:\n",
    "def fact(x):\n",
    "    \"\"\"this recursion function\"\"\"\n",
    "    if x==1:\n",
    "        return 1\n",
    "    else:\n",
    "        return(x*fact(x-1)) #recursive function call\n",
    "print(fact(x=int(input(\"enter a number\"))))"
   ]
  },
  {
   "cell_type": "code",
   "execution_count": null,
   "metadata": {},
   "outputs": [],
   "source": [
    "#Types of Arguments:\n",
    "1. default arguments\n",
    "2. keyword arguments\n",
    "3. arbitary arguments"
   ]
  },
  {
   "cell_type": "code",
   "execution_count": null,
   "metadata": {},
   "outputs": [],
   "source": [
    "# Default arguments: assign the values to that arguments at the function definition\n",
    "# Example:\n",
    "def msg(name,msg):\n",
    "    print(\"Hello\",name+\",\"+msg)\n",
    "msg(\"surya\",\"Good afternoon to All\")"
   ]
  },
  {
   "cell_type": "code",
   "execution_count": null,
   "metadata": {},
   "outputs": [],
   "source": [
    "#variable arguments\n",
    "def msg(name,msg=\"Good afternoon to All\"):\n",
    "    print(\"Hello\",name+\",\"+msg)\n",
    "msg(\"surya\")\n",
    "msg(\"apssdc\",\"How do you do\")"
   ]
  },
  {
   "cell_type": "code",
   "execution_count": null,
   "metadata": {},
   "outputs": [],
   "source": [
    "#Keyword Arguments:\n",
    "def msg(name,msg):\n",
    "    print(\"Hello\",name+\",\"+msg)\n",
    "msg(name=\"apssdc\",msg=\"Hello how r u\") #keyword arguments with order\n",
    "msg(msg=\"Hello how r u\",name=\"apssdc\",) # keyword arguments without order\n",
    "msg(\"apssdc\",msg=\"Hello how r u\") #1 positional argument, 1 keyword argument\n",
    "#msg(msg=\"Hello how r u\",\"apssdc\")\n"
   ]
  },
  {
   "cell_type": "code",
   "execution_count": null,
   "metadata": {},
   "outputs": [],
   "source": [
    "#arbitary arguments: (*astriek symbol)\n",
    "def Players(*names):\n",
    "    for name in names:\n",
    "        print(name)\n",
    "Players(\"Sachin\",\"Dhoni\",\"Kohli\",\"Rohit\",\"Dhavan\")"
   ]
  },
  {
   "cell_type": "code",
   "execution_count": null,
   "metadata": {},
   "outputs": [],
   "source": [
    "#Calculator \n",
    "print(\"Calculator\")\n",
    "print(\"1.Add\")\n",
    "print(\"2.Substract\")\n",
    "print(\"3. Multipy\")\n",
    "print(\"4.Divide\")\n",
    "#input choice\n",
    "ch = int(input(\"enter choice(1-4):\"))\n",
    "if ch==1:\n",
    "    a= int(input(\"enter A\"))\n",
    "    b= int(input(\"enter B\"))\n",
    "    c=a+b\n",
    "    print(\"sum:\",c)\n",
    "elif ch==2:\n",
    "    a= int(input(\"enter A\"))\n",
    "    b= int(input(\"enter B\"))\n",
    "    c=a-b\n",
    "    print(\"sub:\",c)\n",
    "elif ch==3:\n",
    "    a= int(input(\"enter A\"))\n",
    "    b= int(input(\"enter B\"))\n",
    "    c=a*b\n",
    "    print(\"Mul:\",c)\n",
    "elif ch==4:\n",
    "    a= int(input(\"enter A\"))\n",
    "    b= int(input(\"enter B\"))\n",
    "    c=a%b\n",
    "    print(\"Divide:\",c)\n",
    "else:\n",
    "    print(\"invalid choice\")"
   ]
  },
  {
   "cell_type": "code",
   "execution_count": null,
   "metadata": {},
   "outputs": [],
   "source": [
    "#Python Program to find those numbers which are divisible by 7 and multiple of 5 in a given range of numbers.\n",
    "def divnums(low,upper):\n",
    "    for i in range(low,upper+1):\n",
    "        if (i%7==0 and i%5==0):\n",
    "            print(i,end=\" \")\n",
    "low=int(input(\"Enter low Number\"))\n",
    "upper=int(input(\"Enter upper Number\"))\n",
    "divnums(low,upper)"
   ]
  },
  {
   "cell_type": "code",
   "execution_count": null,
   "metadata": {},
   "outputs": [],
   "source": [
    "import math\n",
    "people = int(input())\n",
    "capacity = 5\n",
    "print(math.ceil(people/capacity))"
   ]
  },
  {
   "cell_type": "code",
   "execution_count": null,
   "metadata": {},
   "outputs": [],
   "source": [
    "n=eval(input(\"enter no of peoples:\"))\n",
    "car=0\n",
    "for i in range(n):\n",
    "\tif (i%5==0):\n",
    "\t\tcar+=1\n",
    "print(car)"
   ]
  },
  {
   "cell_type": "code",
   "execution_count": null,
   "metadata": {},
   "outputs": [],
   "source": [
    "n = input()\n",
    "while(n!=n[::-1]):\n",
    "    n=str(int(n)+int(n[::-1]))\n",
    "print(n)"
   ]
  },
  {
   "cell_type": "code",
   "execution_count": null,
   "metadata": {},
   "outputs": [],
   "source": []
  },
  {
   "cell_type": "code",
   "execution_count": null,
   "metadata": {},
   "outputs": [],
   "source": [
    "n = int(input())\n",
    "c = 0\n",
    "while n/2>=0:\n",
    "    c+=1\n",
    "    n=n/2\n",
    "    a=0\n",
    "    if n==1:\n",
    "        \n",
    "        a=(2*(2**c-1))\n",
    "print(a)"
   ]
  },
  {
   "cell_type": "code",
   "execution_count": null,
   "metadata": {},
   "outputs": [],
   "source": []
  }
 ],
 "metadata": {
  "kernelspec": {
   "display_name": "Python 3",
   "language": "python",
   "name": "python3"
  },
  "language_info": {
   "codemirror_mode": {
    "name": "ipython",
    "version": 3
   },
   "file_extension": ".py",
   "mimetype": "text/x-python",
   "name": "python",
   "nbconvert_exporter": "python",
   "pygments_lexer": "ipython3",
   "version": "3.7.3"
  }
 },
 "nbformat": 4,
 "nbformat_minor": 2
}

{
 "cells": [
  {
   "cell_type": "code",
   "execution_count": null,
   "metadata": {},
   "outputs": [],
   "source": [
    "#Day 4 :\n",
    "#Agenda of Today Session:\n",
    "             #Concepts: \n",
    "                     Loops in Python and Problem Solving\n",
    "                     "
   ]
  },
  {
   "cell_type": "code",
   "execution_count": 3,
   "metadata": {},
   "outputs": [
    {
     "name": "stdout",
     "output_type": "stream",
     "text": [
      "(4 * 3) + 2) = 14\n"
     ]
    }
   ],
   "source": [
    "x, y,z= 4, 3,2\n",
    "result = x * y + z\n",
    "print(\"({} * {}) + {}) = {}\".format(x, y,z, result))\n"
   ]
  },
  {
   "cell_type": "code",
   "execution_count": null,
   "metadata": {},
   "outputs": [],
   "source": [
    "# loops ?: 1. for Loop\n",
    "           2. while Loop"
   ]
  },
  {
   "cell_type": "code",
   "execution_count": null,
   "metadata": {},
   "outputs": [],
   "source": [
    "1. for loop:\n",
    "    for(i=1;i<=10,i++)\n",
    "    {\n",
    "        block of code\n",
    "    }"
   ]
  },
  {
   "cell_type": "code",
   "execution_count": null,
   "metadata": {},
   "outputs": [],
   "source": [
    "#syntax of for:\n",
    "for val in sequence:  #sq may be list tuple,strings...etc\n",
    "    block of code"
   ]
  },
  {
   "cell_type": "code",
   "execution_count": 5,
   "metadata": {},
   "outputs": [
    {
     "name": "stdout",
     "output_type": "stream",
     "text": [
      "the sum is 323\n"
     ]
    }
   ],
   "source": [
    "#example:\n",
    "li = [23,50,60,90,100]\n",
    "sum = 0\n",
    "for i in li:\n",
    "    sum = sum+i\n",
    "print(\"the sum is\",sum)"
   ]
  },
  {
   "cell_type": "code",
   "execution_count": null,
   "metadata": {},
   "outputs": [],
   "source": [
    "#range function:\n",
    "#syntax:\n",
    "range(start,stop, step_size)"
   ]
  },
  {
   "cell_type": "code",
   "execution_count": 7,
   "metadata": {},
   "outputs": [
    {
     "data": {
      "text/plain": [
       "[1, 2, 3, 4, 5, 6, 7, 8, 9]"
      ]
     },
     "execution_count": 7,
     "metadata": {},
     "output_type": "execute_result"
    }
   ],
   "source": [
    "list(range(1,10))"
   ]
  },
  {
   "cell_type": "code",
   "execution_count": 12,
   "metadata": {},
   "outputs": [
    {
     "name": "stdout",
     "output_type": "stream",
     "text": [
      "[1, 11, 21, 31, 41, 51, 61, 71, 81, 91] "
     ]
    }
   ],
   "source": [
    "print(list(range(1,100,10)),end=\" \")"
   ]
  },
  {
   "cell_type": "code",
   "execution_count": null,
   "metadata": {},
   "outputs": [],
   "source": [
    "#range function with for loop:"
   ]
  },
  {
   "cell_type": "code",
   "execution_count": 15,
   "metadata": {},
   "outputs": [
    {
     "name": "stdout",
     "output_type": "stream",
     "text": [
      "1 51 101 151 201 251 301 351 401 451 501 551 601 651 701 751 801 851 901 951 "
     ]
    }
   ],
   "source": [
    "#print 1 to 100 numbers\n",
    "for i in range(1,1000,50):\n",
    "    print(i,end=\" \")"
   ]
  },
  {
   "cell_type": "code",
   "execution_count": 19,
   "metadata": {},
   "outputs": [
    {
     "name": "stdout",
     "output_type": "stream",
     "text": [
      "20 40 60 90 100 "
     ]
    }
   ],
   "source": [
    "li = [20,40,60,90,100]\n",
    "for n in range(len(li)):\n",
    "    print(li[n],end=\" \")"
   ]
  },
  {
   "cell_type": "code",
   "execution_count": 20,
   "metadata": {},
   "outputs": [
    {
     "data": {
      "text/plain": [
       "5"
      ]
     },
     "execution_count": 20,
     "metadata": {},
     "output_type": "execute_result"
    }
   ],
   "source": [
    "len(li)"
   ]
  },
  {
   "cell_type": "code",
   "execution_count": 22,
   "metadata": {},
   "outputs": [
    {
     "data": {
      "text/plain": [
       "6"
      ]
     },
     "execution_count": 22,
     "metadata": {},
     "output_type": "execute_result"
    }
   ],
   "source": [
    "s = \"apssdc\"\n",
    "len(s)"
   ]
  },
  {
   "cell_type": "code",
   "execution_count": null,
   "metadata": {},
   "outputs": [],
   "source": [
    "# else with fop loop:\n"
   ]
  },
  {
   "cell_type": "code",
   "execution_count": 26,
   "metadata": {},
   "outputs": [
    {
     "name": "stdout",
     "output_type": "stream",
     "text": [
      "0\n",
      "1\n",
      "3\n",
      "4\n",
      "5\n",
      "6\n",
      "7\n",
      "8\n",
      "no items left\n"
     ]
    }
   ],
   "source": [
    "digits = [0,1,3,4,5,6,7,8]\n",
    "for i in digits:\n",
    "    print(i,end=\"\\n\")\n",
    "else:\n",
    "    print(\"no items left\")"
   ]
  },
  {
   "cell_type": "code",
   "execution_count": null,
   "metadata": {},
   "outputs": [],
   "source": [
    "#break statement with for loop:\n",
    "break"
   ]
  },
  {
   "cell_type": "code",
   "execution_count": 36,
   "metadata": {},
   "outputs": [],
   "source": [
    "s = \"apssdc python\"\n",
    "for ch in s:\n",
    "    if ch=='a':\n",
    "        break\n",
    "        print(ch,end= \" \")\n",
    "        \n",
    "    \n",
    "else:\n",
    "    print(\"inside else\")"
   ]
  },
  {
   "cell_type": "code",
   "execution_count": null,
   "metadata": {},
   "outputs": [],
   "source": [
    "# while loop in python:\n",
    "# syntax:\n",
    "while test_expression:\n",
    "    body of while loop"
   ]
  },
  {
   "cell_type": "code",
   "execution_count": 42,
   "metadata": {},
   "outputs": [
    {
     "name": "stdout",
     "output_type": "stream",
     "text": [
      "enter n value50\n",
      "the sum is 1275\n"
     ]
    }
   ],
   "source": [
    "#print sum of 1 to n\n",
    "n = int(input(\"enter n value\"))\n",
    "sum = 0\n",
    "i =1\n",
    "while i<=n:\n",
    "    sum = sum+i\n",
    "    i = i+1\n",
    "print(\"the sum is\",sum)"
   ]
  },
  {
   "cell_type": "code",
   "execution_count": 44,
   "metadata": {},
   "outputs": [
    {
     "name": "stdout",
     "output_type": "stream",
     "text": [
      "inside while loop\n",
      "inside while loop\n",
      "inside while loop\n",
      "inside while loop\n",
      "inside while loop\n",
      "Inside else \n"
     ]
    }
   ],
   "source": [
    "#while loop with els statement:\n",
    "counter =0\n",
    "while counter<5:\n",
    "    print(\"inside while loop\")\n",
    "    counter = counter+1\n",
    "else:\n",
    "    print(\"Inside else \")"
   ]
  },
  {
   "cell_type": "code",
   "execution_count": null,
   "metadata": {},
   "outputs": [],
   "source": [
    "# Break and continue statements\"\n",
    "break : it will break the body of loop immediately\n",
    "break"
   ]
  },
  {
   "cell_type": "code",
   "execution_count": 54,
   "metadata": {},
   "outputs": [
    {
     "name": "stdout",
     "output_type": "stream",
     "text": [
      "p y t h o n   p o g a m m i n g the end\n"
     ]
    }
   ],
   "source": [
    "#example with break:\n",
    "s = \"python programming\"\n",
    "for ch in s:\n",
    "    if ch ==\"r\":\n",
    "        continue\n",
    "        \n",
    "    print(ch,end=\" \")\n",
    "print(\"the end\")"
   ]
  },
  {
   "cell_type": "code",
   "execution_count": null,
   "metadata": {},
   "outputs": [],
   "source": [
    "#continue statement:\n",
    "continue"
   ]
  },
  {
   "cell_type": "code",
   "execution_count": 55,
   "metadata": {},
   "outputs": [],
   "source": [
    "#pass statement\n",
    "pass"
   ]
  },
  {
   "cell_type": "code",
   "execution_count": 57,
   "metadata": {},
   "outputs": [],
   "source": [
    "sq = [\"a\",\"b\",\"c\",\"d\"]\n",
    "for val in sq:\n",
    "    pass\n",
    "    "
   ]
  },
  {
   "cell_type": "code",
   "execution_count": 59,
   "metadata": {},
   "outputs": [],
   "source": [
    "def fun(args):\n",
    "    pass\n",
    "    #pass "
   ]
  },
  {
   "cell_type": "code",
   "execution_count": 61,
   "metadata": {},
   "outputs": [
    {
     "name": "stdout",
     "output_type": "stream",
     "text": [
      "enter a year2017\n",
      "2017 is not a leap year\n"
     ]
    }
   ],
   "source": [
    "#leap year:\n",
    "year = int(input(\"enter a year\"))\n",
    "if (year%4==0 and year%100!=0 or year %400==0):\n",
    "    print(year,\"is a leap year\")\n",
    "else:\n",
    "    print(year,\"is not a leap year\")"
   ]
  },
  {
   "cell_type": "code",
   "execution_count": 66,
   "metadata": {},
   "outputs": [
    {
     "name": "stdout",
     "output_type": "stream",
     "text": [
      "1904 1908 1912 1916 1920 1924 1928 1932 1936 1940 1944 1948 1952 1956 1960 1964 1968 1972 1976 1980 1984 1988 1992 1996 2000 2004 2008 2012 2016 2020 "
     ]
    }
   ],
   "source": [
    "#low = int(input(\"enter first range\"))\n",
    "#high = int(input(\"enter last range\"))\n",
    "for year in range(1900,2020+1):\n",
    "    if (year%4==0 and year%100!=0 or year %400==0):\n",
    "        print(year,end=\" \")"
   ]
  },
  {
   "cell_type": "code",
   "execution_count": 68,
   "metadata": {},
   "outputs": [
    {
     "name": "stdout",
     "output_type": "stream",
     "text": [
      "enter n value5\n",
      "5 X 1 = 5\n",
      "5 X 2 = 10\n",
      "5 X 3 = 15\n",
      "5 X 4 = 20\n",
      "5 X 5 = 25\n",
      "5 X 6 = 30\n",
      "5 X 7 = 35\n",
      "5 X 8 = 40\n",
      "5 X 9 = 45\n",
      "5 X 10 = 50\n"
     ]
    }
   ],
   "source": [
    "n = int(input(\"enter n value\"))\n",
    "for i in range(1,10+1):\n",
    "    print(n,\"X\",i,\"=\",n*i)"
   ]
  },
  {
   "cell_type": "code",
   "execution_count": 69,
   "metadata": {},
   "outputs": [
    {
     "name": "stdout",
     "output_type": "stream",
     "text": [
      "enter the marks of sub150\n",
      "enter the marks of sub270\n",
      "enter the marks of sub390\n",
      "Grade:C\n"
     ]
    }
   ],
   "source": [
    "# find the grade of 3 subjects\n",
    "sub1 = int(input(\"enter the marks of sub1\"))\n",
    "sub2 = int(input(\"enter the marks of sub2\"))\n",
    "sub3 = int(input(\"enter the marks of sub3\"))\n",
    "avg = (sub1+sub2+sub3)/3\n",
    "if(avg>=90):\n",
    "    print(\"Grade: A\")\n",
    "elif(avg>=80 and avg<90):\n",
    "    print(\"Grade:B\")\n",
    "elif(avg>=70 and avg<80):\n",
    "    print(\"Grade:C\")\n",
    "elif(avg>=60 and avg<70):\n",
    "    print(\"Grade:D\")\n",
    "else:\n",
    "    print(\"Grade:E\")"
   ]
  },
  {
   "cell_type": "code",
   "execution_count": 70,
   "metadata": {},
   "outputs": [
    {
     "name": "stdout",
     "output_type": "stream",
     "text": [
      "Enter a value50\n",
      "Enter b value100\n",
      "a is: 100 b is: 50\n"
     ]
    }
   ],
   "source": [
    "a = int(input(\"Enter a value\"))\n",
    "b = int(input(\"Enter b value\"))\n",
    "a = a+b\n",
    "b = a-b\n",
    "a = a-b\n",
    "print(\"a is:\",a,\"b is:\",b)"
   ]
  },
  {
   "cell_type": "code",
   "execution_count": 2,
   "metadata": {},
   "outputs": [
    {
     "name": "stdout",
     "output_type": "stream",
     "text": [
      "5\n",
      "3\n",
      "2\n",
      "0"
     ]
    }
   ],
   "source": [
    "N = int(input())\n",
    "cities = list(map(int, input().split()))\n",
    "M = int(input())\n",
    "cost = skips = 0\n",
    "if(cities[-1] < 0):\n",
    "    cost = -1\n",
    "else:\n",
    "    for i in cities:\n",
    "        if(skips > M):\n",
    "            cost = -1\n",
    "            break\n",
    "        else:\n",
    "            if(i < 0):\n",
    "                skips += 1\n",
    "                continue\n",
    "                cost += 1\n",
    "            print(cost, end = '')"
   ]
  },
  {
   "cell_type": "markdown",
   "metadata": {},
   "source": [
    "N = 4\n",
    "c = [3,4,1,1]\n",
    "L = 3\n",
    "\n",
    "# N = 5\n",
    "# c = [1,6,-1,5,7]\n",
    "# L = 1\n",
    "\n",
    "a=c.pop(0)\n",
    "if(c[-1]==-1):\n",
    "print(-1)\n",
    "else:\n",
    "if(c.count(-1)>L):\n",
    "print(-1)\n",
    "else:\n",
    "L-=c.count(-1)\n",
    "while( -1 in c):\n",
    "c.pop(c.index(-1))\n",
    "c.sort()\n",
    "for i in range(len(c)-L):\n",
    "a+=c[i]\n",
    "# print(a)\n",
    "print(a)\n"
   ]
  },
  {
   "cell_type": "code",
   "execution_count": 7,
   "metadata": {},
   "outputs": [
    {
     "name": "stdout",
     "output_type": "stream",
     "text": [
      "3\n"
     ]
    }
   ],
   "source": [
    "N = 4\n",
    "c = [3,4,1,1]\n",
    "L = 3\n",
    "\n",
    "a=c.pop(0)\n",
    "if(c[-1]==-1):\n",
    "    print(-1)\n",
    "else:\n",
    "    if(c.count(-1)>L):\n",
    "        print(-1)\n",
    "    else:\n",
    "        L-=c.count(-1)\n",
    "    while( -1 in c):\n",
    "        c.pop(c.index(-1))\n",
    "        c.sort()\n",
    "    for i in range(len(c)-L):\n",
    "        a+=c[i]\n",
    "# print(a)\n",
    "    print(a)"
   ]
  },
  {
   "cell_type": "code",
   "execution_count": null,
   "metadata": {},
   "outputs": [],
   "source": []
  }
 ],
 "metadata": {
  "kernelspec": {
   "display_name": "Python 3",
   "language": "python",
   "name": "python3"
  },
  "language_info": {
   "codemirror_mode": {
    "name": "ipython",
    "version": 3
   },
   "file_extension": ".py",
   "mimetype": "text/x-python",
   "name": "python",
   "nbconvert_exporter": "python",
   "pygments_lexer": "ipython3",
   "version": "3.7.3"
  }
 },
 "nbformat": 4,
 "nbformat_minor": 2
}

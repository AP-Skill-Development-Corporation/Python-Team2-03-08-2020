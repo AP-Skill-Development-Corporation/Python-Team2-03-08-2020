{
 "cells": [
  {
   "cell_type": "code",
   "execution_count": null,
   "metadata": {},
   "outputs": [],
   "source": [
    "# Day-11 \n",
    "# Agenda of today session is:\n",
    "                1. File Handling in Python \n",
    "                2. Problem Solving on Previous Concepts"
   ]
  },
  {
   "cell_type": "code",
   "execution_count": null,
   "metadata": {},
   "outputs": [],
   "source": [
    "# What is a file?\n",
    "   Its a named location stored some related data in a permanent way at place of non-viotile memory (Hard Disk)\n",
    "# What is file handing ?\n",
    "  Its process of performing the some type of operations on a file.\n",
    "# why use use or introduce?\n",
    "  1. To store data in a permanent way.\n",
    "  2. To avoids time consuming.\n",
    "# How to use files?"
   ]
  },
  {
   "cell_type": "code",
   "execution_count": null,
   "metadata": {},
   "outputs": [],
   "source": [
    "#Types of files:\n",
    "1. Text files:\n",
    "    Examples: \n",
    "        Web Standards: html, xml, css, json\n",
    "        source code : c, js,py,java etc\n",
    "        documents : txt, rtc etc\n",
    "        tabular data : csv, tsv etc\n",
    "        configuration : ini,cfg,reg etc.\n",
    "2. Binary files:\n",
    "    Examples:\n",
    "        Document files: .pdf,.doc,.xls,etc\n",
    "        image files : .png,.jpg,\n",
    "        video & audio files : .mp4, .mp3,.mkv,.avi\n",
    "        database files : .sqlite \n",
    "        archive files : .zip, .rar, .iso\n",
    "        Executable files : .exe. .dll, .class etc\n",
    "        "
   ]
  },
  {
   "cell_type": "code",
   "execution_count": null,
   "metadata": {},
   "outputs": [],
   "source": [
    "# File Handling Operations:\n",
    "4 type of operations are:\n",
    "    #operations       methods          syntax:\n",
    "    1. open -        open()            open(filename,mode,encoding)\n",
    "    2. read -        read()            read(), read(5)\n",
    "    3. write -       write()           write() writelines()\n",
    "    4. close -       close()           close()\n",
    "    5. rename -      rename()          rename(oldname,newname)\n",
    "    6. delete -      delete()          delete(filename)\n",
    "    "
   ]
  },
  {
   "cell_type": "code",
   "execution_count": null,
   "metadata": {},
   "outputs": [],
   "source": [
    "# How create or open a file(): \n",
    "By using open() function to create or open a file \n",
    "# syntax:\n",
    "file_object = open(file_name,mode)  # by default mode is read mode"
   ]
  },
  {
   "cell_type": "code",
   "execution_count": null,
   "metadata": {},
   "outputs": [],
   "source": [
    "# Mode of operation in file handling\n",
    "1. read mode  - its used for read the contents of the file \n",
    "2. write mode  - its used for write the contents to the file\n",
    "                 #Note : if that file is already created with some data it will be overwrite with new content or file will \n",
    "                  #   be created with new content\n",
    "3. append mode  - its used for write the contents to the file at the ending position."
   ]
  },
  {
   "cell_type": "code",
   "execution_count": null,
   "metadata": {},
   "outputs": [],
   "source": [
    "#MODES                  DESCRIPTION\n",
    "<r>\t                    It opens a file in read-only mode while the file offset stays at the root.\n",
    "<rb>\t                It opens a file in (binary + read-only) modes. And the offset remains at the root level.\n",
    "<r+>\t                It opens the file in both (read + write) modes while the file offset is again at the root level.\n",
    "<rb+>\t                It opens the file in (read + write + binary) modes. The file offset is again at the root level.\n",
    "<w>\t                    It allows write-level access to a file. If the file already exists, \n",
    "                        then it’ll get overwritten. It’ll create a new file if the same doesn’t exist.\n",
    "    \n",
    "<wb>\t                Use it to open a file for writing in binary format. Same behavior as for write-only mode.\n",
    "<w+>\t                It opens a file in both (read + write) modes. Same behavior as for write-only mode.\n",
    "<wb+>\t                It opens a file in (read + write + binary) modes. Same behavior as for write-only mode.\n",
    "<a>\t                    It opens the file in append mode. The offset goes to the end of the file. \n",
    "                        If the file doesn’t exist, then it gets created.\n",
    "    \n",
    "<ab>\t                It opens a file in (append + binary) modes. Same behavior as for append mode.\n",
    "<a+>\t                It opens a file in (append + read) modes. Same behavior as for append mode.\n",
    "<ab+>\t                It opens a file in (append + read + binary) modes. Same behavior as for append mode."
   ]
  },
  {
   "cell_type": "code",
   "execution_count": 1,
   "metadata": {},
   "outputs": [
    {
     "data": {
      "text/plain": [
       "'C:\\\\Users\\\\Mission Impossible\\\\Desktop\\\\Python-Online Workshop Content'"
      ]
     },
     "execution_count": 1,
     "metadata": {},
     "output_type": "execute_result"
    }
   ],
   "source": [
    "#os module:\n",
    "import os\n",
    "os.getcwd()\n",
    "os.chdir(\"\")"
   ]
  },
  {
   "cell_type": "code",
   "execution_count": 14,
   "metadata": {},
   "outputs": [
    {
     "name": "stdout",
     "output_type": "stream",
     "text": [
      "Hello everyone, Good afternoon!\n",
      "True\n",
      "r\n",
      "example.txt\n"
     ]
    }
   ],
   "source": [
    "f= open(\"example.txt\",\"w\",encoding=\"cp1252\")\n",
    "f.write(\"Hello everyone, Good afternoon!\")\n",
    "f = open(\"example.txt\",\"r\")\n",
    "data=f.read()\n",
    "print(data)\n",
    "f.close()\n",
    "print(f.closed)\n",
    "print(f.mode)\n",
    "print(f.name)"
   ]
  },
  {
   "cell_type": "code",
   "execution_count": 12,
   "metadata": {},
   "outputs": [
    {
     "name": "stdout",
     "output_type": "stream",
     "text": [
      "True\n",
      "r\n",
      "example.txt\n"
     ]
    }
   ],
   "source": [
    "#Note: After performing the read or write operation or working of file which must be closed\n",
    "#file artibutes \n",
    "print(f.closed)\n",
    "print(f.mode)\n",
    "print(f.name)"
   ]
  },
  {
   "cell_type": "code",
   "execution_count": 15,
   "metadata": {},
   "outputs": [],
   "source": [
    "# The close() method():\n",
    "file = open(\"example.txt\",encoding=\"utf-8\")\n",
    " #Do file operations\n",
    "f.close()"
   ]
  },
  {
   "cell_type": "code",
   "execution_count": null,
   "metadata": {},
   "outputs": [],
   "source": [
    "#close with try-catch:\n",
    "try:\n",
    "    file = open(\"example.txt\",encoding=\"utf-8\")\n",
    " #Do file operations\n",
    "finally:\n",
    "    f.close()"
   ]
  },
  {
   "cell_type": "code",
   "execution_count": 18,
   "metadata": {},
   "outputs": [
    {
     "name": "stdout",
     "output_type": "stream",
     "text": [
      "Hello everyone, Good afternoon!\n",
      "True\n"
     ]
    }
   ],
   "source": [
    "#auto close using \"with\" keyword:\n",
    "with open(\"example.txt\",\"r\") as f:\n",
    "    data= f.read()\n",
    "    print(data)\n",
    "print(f.closed)"
   ]
  },
  {
   "cell_type": "code",
   "execution_count": null,
   "metadata": {},
   "outputs": [],
   "source": [
    "#write() method:\n",
    "1. write string or sequence of byte to a file:\n",
    "2. size of data"
   ]
  },
  {
   "cell_type": "code",
   "execution_count": 40,
   "metadata": {},
   "outputs": [
    {
     "name": "stdout",
     "output_type": "stream",
     "text": [
      "This is my First Line\n",
      "\n",
      "This is my\n",
      "[' Second Line \\n', 'This is my Third Line \\n', 'This is my Fourth Line \\n', 'This is my fifth Line \\n', 'ac133684949900']\n"
     ]
    }
   ],
   "source": [
    "#Example:\n",
    "with open(\"words.txt\",\"w\") as f:                  # single string - write(\"string\")\n",
    "                                                  # sequence -  write([list or any sequence])\n",
    "    f.write(\"This is my First Line\\n\")\n",
    "    f.write(\"This is my Second Line \\n\")\n",
    "    f.write(\"This is my Third Line \\n\")\n",
    "    f.write(\"This is my Fourth Line \\n\")\n",
    "    f.write(\"This is my fifth Line \\n\")\n",
    "    f.writelines([\"a\",\"c\",\"133\",\"684949\",\"900\"])\n",
    "with open(\"words.txt\",\"r\") as f :\n",
    "    print(f.readline())\n",
    "    print(f.read(10))                   # read() - its reads the entire data upto end of the cursur\n",
    "    print(f.readlines())    #read(size) - its reads the some size of data in form of characters\n",
    "                           #readlines() - its returns the data in the form of list of lines.\n",
    "                           #readline()  - its returns only single line at a time."
   ]
  },
  {
   "cell_type": "code",
   "execution_count": 60,
   "metadata": {},
   "outputs": [
    {
     "name": "stdout",
     "output_type": "stream",
     "text": [
      "This is my First Line\n",
      "\n",
      "True\n"
     ]
    }
   ],
   "source": [
    "with open(\"words.txt\",\"r\") as f :\n",
    "    line = f.readline()\n",
    "    #print(f.readline())\n",
    "    #print(f.readline())\n",
    "    #print(f.readline())\n",
    "    #print(f.readline())\n",
    "    #print(f.readline())\n",
    "    #print(f.readlines())\n",
    "    print(line)\n",
    "print(f.closed)"
   ]
  },
  {
   "cell_type": "code",
   "execution_count": 67,
   "metadata": {},
   "outputs": [
    {
     "name": "stdout",
     "output_type": "stream",
     "text": [
      "35\n",
      "This is my First Line\n",
      "This is my Second Line \n",
      "This is my Third Line \n",
      "This is my Fourth Line \n",
      "This is my fifth Line \n",
      "ac133684949900this line is added by append mode \n",
      "this line is added by append mode \n",
      "this line is added by append mode \n",
      "this line is added by append mode \n",
      "this line is added by append mode \n",
      "this line is added by append mode \n",
      "\n"
     ]
    }
   ],
   "source": [
    "# apend operation:\n",
    "with open(\"words.txt\",\"a\") as f:\n",
    "    print(f.write(\"this line is added by append mode \\n\"))\n",
    "with open(\"words.txt\",\"r\") as f:\n",
    "    print(f.read())"
   ]
  },
  {
   "cell_type": "code",
   "execution_count": 80,
   "metadata": {},
   "outputs": [
    {
     "name": "stdout",
     "output_type": "stream",
     "text": [
      "This is my First Line\n",
      "This is my Second Line \n",
      "This is my Third Line \n",
      "This is my Fourth Line \n",
      "This is my fifth Line \n",
      "ac133684949900this line is added by append mode \n",
      "this line is added by append mode \n",
      "this line is added by append mode \n",
      "this line is added by append mode \n",
      "this line is added by append mode \n",
      "this line is added by append mode \n",
      "\n",
      "current position: 351\n",
      "0\n",
      "after read string is This is my First Li\n",
      "19\n",
      "351\n"
     ]
    }
   ],
   "source": [
    "#tell() and seek() methods:\n",
    "with open(\"words.txt\",\"r\") as f:\n",
    "    print(f.read())\n",
    "    position = f.tell()  # which tells the current position of the cursor in the file\n",
    "    print(\"current position:\",position)\n",
    "    # change the position to the begining\n",
    "    position = f.seek(0,0)\n",
    "    print(position)\n",
    "    data = f.read(19)\n",
    "    print(\"after read string is\",data)\n",
    "    print(f.tell())\n",
    "    print(f.seek(0,2))\n",
    "#note:\n",
    "##seek(offset): The offset takes three types of arguments namely 0,1 and 2.\n",
    "#syntax:\n",
    "\n",
    "fileobject.seek(offset,[,from])\n",
    "\n",
    "When the offset is 0: Reference will be pointed at the beginning of the file.\n",
    "When the offset is 1: Reference will be pointed at the current cursor position.\n",
    "When the offset is 2: Reference will be pointed at the end of the file."
   ]
  },
  {
   "cell_type": "code",
   "execution_count": 81,
   "metadata": {},
   "outputs": [],
   "source": [
    "#rename and remove():\n",
    "import os\n",
    "os.rename(\"words.txt\",\"mywords.txt\")"
   ]
  },
  {
   "cell_type": "code",
   "execution_count": 85,
   "metadata": {},
   "outputs": [
    {
     "ename": "FileNotFoundError",
     "evalue": "[Errno 2] No such file or directory: 'mywords.txt'",
     "output_type": "error",
     "traceback": [
      "\u001b[1;31m---------------------------------------------------------------------------\u001b[0m",
      "\u001b[1;31mFileNotFoundError\u001b[0m                         Traceback (most recent call last)",
      "\u001b[1;32m<ipython-input-85-c806fa4e5c91>\u001b[0m in \u001b[0;36m<module>\u001b[1;34m\u001b[0m\n\u001b[1;32m----> 1\u001b[1;33m \u001b[1;32mwith\u001b[0m \u001b[0mopen\u001b[0m\u001b[1;33m(\u001b[0m\u001b[1;34m\"mywords.txt\"\u001b[0m\u001b[1;33m,\u001b[0m\u001b[1;34m\"r\"\u001b[0m\u001b[1;33m)\u001b[0m \u001b[1;32mas\u001b[0m \u001b[0mf\u001b[0m\u001b[1;33m:\u001b[0m\u001b[1;33m\u001b[0m\u001b[1;33m\u001b[0m\u001b[0m\n\u001b[0m\u001b[0;32m      2\u001b[0m     \u001b[0mprint\u001b[0m\u001b[1;33m(\u001b[0m\u001b[0mf\u001b[0m\u001b[1;33m.\u001b[0m\u001b[0mread\u001b[0m\u001b[1;33m(\u001b[0m\u001b[1;33m)\u001b[0m\u001b[1;33m)\u001b[0m\u001b[1;33m\u001b[0m\u001b[1;33m\u001b[0m\u001b[0m\n",
      "\u001b[1;31mFileNotFoundError\u001b[0m: [Errno 2] No such file or directory: 'mywords.txt'"
     ]
    }
   ],
   "source": [
    "with open(\"mywords.txt\",\"r\") as f:\n",
    "    print(f.read())"
   ]
  },
  {
   "cell_type": "code",
   "execution_count": 84,
   "metadata": {},
   "outputs": [],
   "source": [
    "os.remove(\"mywords.txt\")"
   ]
  },
  {
   "cell_type": "code",
   "execution_count": 89,
   "metadata": {},
   "outputs": [
    {
     "name": "stdout",
     "output_type": "stream",
     "text": [
      "Enter your filenamedata.txt\n",
      "Enter no.of users to be add:3\n",
      "Enter your Name:surya\n",
      "Enter your Email ID:iamsurya93@gmail.com\n",
      "Enter Mobile:8328401910\n",
      "Enter your Name:kalyan\n",
      "Enter your Email ID:kalyan123@gmail.com\n",
      "Enter Mobile:9000565677\n",
      "Enter your Name:divya\n",
      "Enter your Email ID:divya156@yahoo.com\n",
      "Enter Mobile:9848112233\n",
      "\n",
      "surya\tiamsurya93@gmail.com\t8328401910\n",
      "kalyan\tkalyan123@gmail.com\t9000565677\n",
      "divya\tdivya156@yahoo.com\t9848112233\n"
     ]
    }
   ],
   "source": [
    "#problem solving:\n",
    "# Function to Add User Details to input life in a dynamical way\n",
    "def addDetails(filename,N):\n",
    "    with open(filename,\"a\") as f:\n",
    "        for user in range(N):\n",
    "            Name = input(\"Enter your Name:\")\n",
    "            Email = input(\"Enter your Email ID:\")\n",
    "            Mobile = input(\"Enter Mobile:\")\n",
    "            f.write(\"\\n\"+Name+\"\\t\"+Email+\"\\t\"+Mobile)\n",
    "    with open(filename,\"r\") as f:\n",
    "                         print(f.read())\n",
    "filename= input(\"Enter your filename\")\n",
    "addDetails(filename,int(input(\"Enter no.of users to be add:\")))"
   ]
  },
  {
   "cell_type": "code",
   "execution_count": 90,
   "metadata": {},
   "outputs": [
    {
     "name": "stdout",
     "output_type": "stream",
     "text": [
      "{2: 4, 4: 16, 6: 36, 8: 64, 10: 100}\n"
     ]
    }
   ],
   "source": [
    "# #Convert the given list to dictionary as given below\n",
    "   #input - [2,4,6,8,10]\n",
    "   #output - {2 : 4, 4 : 16, 6 : 36, 8 : 64, 10 : 100}\n",
    "li = [2,4,6,8,10]\n",
    "d= {} #empty dictionary\n",
    "for i in li:\n",
    "    d[i] = i*i\n",
    "    d.update({i:i**2})\n",
    "print(d)"
   ]
  },
  {
   "cell_type": "code",
   "execution_count": null,
   "metadata": {},
   "outputs": [],
   "source": []
  },
  {
   "cell_type": "code",
   "execution_count": null,
   "metadata": {},
   "outputs": [],
   "source": []
  },
  {
   "cell_type": "code",
   "execution_count": null,
   "metadata": {},
   "outputs": [],
   "source": []
  },
  {
   "cell_type": "code",
   "execution_count": null,
   "metadata": {},
   "outputs": [],
   "source": []
  },
  {
   "cell_type": "code",
   "execution_count": null,
   "metadata": {},
   "outputs": [],
   "source": []
  },
  {
   "cell_type": "code",
   "execution_count": null,
   "metadata": {},
   "outputs": [],
   "source": []
  },
  {
   "cell_type": "code",
   "execution_count": null,
   "metadata": {},
   "outputs": [],
   "source": []
  },
  {
   "cell_type": "code",
   "execution_count": null,
   "metadata": {},
   "outputs": [],
   "source": []
  }
 ],
 "metadata": {
  "kernelspec": {
   "display_name": "Python 3",
   "language": "python",
   "name": "python3"
  },
  "language_info": {
   "codemirror_mode": {
    "name": "ipython",
    "version": 3
   },
   "file_extension": ".py",
   "mimetype": "text/x-python",
   "name": "python",
   "nbconvert_exporter": "python",
   "pygments_lexer": "ipython3",
   "version": "3.7.3"
  }
 },
 "nbformat": 4,
 "nbformat_minor": 2
}

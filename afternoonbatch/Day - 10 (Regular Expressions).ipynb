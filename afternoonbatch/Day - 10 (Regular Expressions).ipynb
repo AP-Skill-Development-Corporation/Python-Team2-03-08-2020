{
 "cells": [
  {
   "cell_type": "code",
   "execution_count": null,
   "metadata": {},
   "outputs": [],
   "source": [
    "# Day -10 \n",
    "# Agenda of today session :\n",
    "                           1. Regular Expressions in Python\n",
    "                           2. Peform problem solving on data structures."
   ]
  },
  {
   "cell_type": "code",
   "execution_count": null,
   "metadata": {},
   "outputs": [],
   "source": [
    "# Regular Expression:\n",
    "   what is that ?\n",
    "    Definition: Its a sequence of characters that defines a search pattern\n",
    "    Its also called as RegEx or re module\n",
    "# what is the use of re:\n",
    "   can de used to search, edit and manipulate text/string."
   ]
  },
  {
   "cell_type": "code",
   "execution_count": 1,
   "metadata": {},
   "outputs": [],
   "source": [
    "# How to use the re module\n",
    "import re\n",
    "# search pattern can be formed along with some rules:\n",
    "# those rules are including meta characters, special sequences and sets:\n",
    "1. Meta characters  - [], ., ^, $, +, ?,{},(),\\,|\n",
    "2. Special Sequences - \\A,\\S,\\B,\\b,\\s,\\D,\\d..etc\n",
    "3. sets    - [a-z],{0-9} etc..."
   ]
  },
  {
   "cell_type": "code",
   "execution_count": null,
   "metadata": {},
   "outputs": [],
   "source": [
    "# Functions in re module:\n",
    "1. match()\n",
    "2. search()\n",
    "3. findall()\n",
    "4. split()\n",
    "5. sub()"
   ]
  },
  {
   "cell_type": "code",
   "execution_count": null,
   "metadata": {},
   "outputs": [],
   "source": [
    "#1. match():\n",
    "#its searches the pattern only at the begining and returns a first occurence only \n",
    "and if match is not its returns none object.\n",
    "#syntax:\n",
    "      re.match(pattern,string/sequence)"
   ]
  },
  {
   "cell_type": "code",
   "execution_count": 7,
   "metadata": {},
   "outputs": [
    {
     "name": "stdout",
     "output_type": "stream",
     "text": [
      "<re.Match object; span=(0, 1), match='t'>\n"
     ]
    }
   ],
   "source": [
    "#example:\n",
    "import re\n",
    "string = \"today is thursday\"\n",
    "pattern = \"t\"\n",
    "print(re.match(pattern,string))"
   ]
  },
  {
   "cell_type": "code",
   "execution_count": 6,
   "metadata": {},
   "outputs": [
    {
     "name": "stdout",
     "output_type": "stream",
     "text": [
      "<re.Match object; span=(0, 6), match='Python'>\n"
     ]
    }
   ],
   "source": [
    "#example:\n",
    "string = \"Python is fun\"\n",
    "match = re.match('\\APython',string) # \\A for Returns a match if the specified characters are at the beginning of the string.\n",
    "print(match)"
   ]
  },
  {
   "cell_type": "code",
   "execution_count": 12,
   "metadata": {},
   "outputs": [
    {
     "name": "stdout",
     "output_type": "stream",
     "text": [
      "re.compile('\\\\APython')\n",
      "Python is fun\n",
      "(0, 6)\n"
     ]
    }
   ],
   "source": [
    "print(match.re)\n",
    "print(match.string)\n",
    "print(match.span())"
   ]
  },
  {
   "cell_type": "code",
   "execution_count": 20,
   "metadata": {},
   "outputs": [
    {
     "data": {
      "text/plain": [
       "<re.Match object; span=(5, 6), match='c'>"
      ]
     },
     "execution_count": 20,
     "metadata": {},
     "output_type": "execute_result"
    }
   ],
   "source": [
    "#search:\n",
    "#its searches the entire all lines string \n",
    "import re\n",
    "re.search(\"c\",\"apssdc in c\")"
   ]
  },
  {
   "cell_type": "code",
   "execution_count": 25,
   "metadata": {},
   "outputs": [
    {
     "name": "stdout",
     "output_type": "stream",
     "text": [
      "surya\n",
      "sun\n",
      "vasu\n",
      "divyas\n",
      "yasu\n"
     ]
    }
   ],
   "source": [
    "names = [\"surya\",\"sun\",\"vasu\",\"ramya\",\"karthik\",\"divyas\",\"zakir\",\"yasu\"]\n",
    "for name in names:\n",
    "    if re.search(\"s\",name):\n",
    "        print(name)"
   ]
  },
  {
   "cell_type": "code",
   "execution_count": 26,
   "metadata": {},
   "outputs": [
    {
     "name": "stdout",
     "output_type": "stream",
     "text": [
      "['234', '789', '501']\n"
     ]
    }
   ],
   "source": [
    "#findall():its returns a list of strings containing all matches:\n",
    "# program to extract the numbers from a given string\n",
    "import re\n",
    "string = \"hello 234 good 789. , How r u Mr.501\"\n",
    "pattern = \"\\d+\" #Returns a match where the string contains digits (numbers from 0-9)\n",
    "out= re.findall(pattern,string)\n",
    "print(out)"
   ]
  },
  {
   "cell_type": "code",
   "execution_count": null,
   "metadata": {},
   "outputs": [],
   "source": [
    "#split():\n",
    "its splits the string where is match found and return a list of strings where the split have occured:\n",
    "#syntax:\n",
    " split(pattern,string,maxlimit)  # maxlimit is 0 its means all split actions"
   ]
  },
  {
   "cell_type": "code",
   "execution_count": 38,
   "metadata": {},
   "outputs": [
    {
     "name": "stdout",
     "output_type": "stream",
     "text": [
      "['everyone', 'must have lappy at 4.30 meeting and 345678,1561,90']\n"
     ]
    }
   ],
   "source": [
    "#example:\n",
    "import re\n",
    "string = \"everyone must have lappy at 4.30 meeting and 345678,1561,90\"\n",
    "pattern = \" \"\n",
    "print(re.split(pattern,string,1))"
   ]
  },
  {
   "cell_type": "code",
   "execution_count": null,
   "metadata": {},
   "outputs": [],
   "source": [
    "#sub function:\n",
    "its returns a string where matched occurences are replaced with values of replace variable:\n",
    "    #syntax:\n",
    "           re.sub(pattern,replace,string)\n",
    "    #if match is not found it returns the orihinal string"
   ]
  },
  {
   "cell_type": "code",
   "execution_count": 46,
   "metadata": {},
   "outputs": [
    {
     "name": "stdout",
     "output_type": "stream",
     "text": [
      "abc123\\xyz2368python56\n"
     ]
    }
   ],
   "source": [
    "#example:\n",
    "string = \"abc 123\\ xyz \\n 23 68 \\n python 56 \\n\"\n",
    "pattern = '\\s+' #Returns a match where the string contains a white space character\n",
    "replace = \"\"\n",
    "new_str= re.sub(pattern,replace,string)\n",
    "print(new_str)"
   ]
  },
  {
   "cell_type": "code",
   "execution_count": 50,
   "metadata": {},
   "outputs": [
    {
     "name": "stdout",
     "output_type": "stream",
     "text": [
      "(17, 24)\n",
      "65\n",
      "(54, 61)\n",
      "65\n"
     ]
    }
   ],
   "source": [
    "#finditer:\n",
    "string = \"apssdc is always inform to students along with latest information\"\n",
    "for i in re.finditer(\"inform.\",string):\n",
    "    res=i.span()  # . means Any character (except newline character)\n",
    "    print(res)\n",
    "    print(len(string))"
   ]
  },
  {
   "cell_type": "code",
   "execution_count": null,
   "metadata": {},
   "outputs": [],
   "source": [
    "match()\n",
    "search()\n",
    "findall()\n",
    "split()\n",
    "sub()"
   ]
  },
  {
   "cell_type": "code",
   "execution_count": null,
   "metadata": {},
   "outputs": [],
   "source": [
    "# Practical cases of Regular Expressions:\n",
    "1. phone number\n",
    "2. E-mail address\n",
    "3. Web Scraping"
   ]
  },
  {
   "cell_type": "code",
   "execution_count": null,
   "metadata": {},
   "outputs": [],
   "source": [
    "# phone number validation:\n",
    "444-333-12345\n",
    "356-678-4556\n",
    "67-8989-2029\n",
    "568-333-9999\n",
    "\n",
    "# rules:\n",
    " starts with 3 digits and - sign\n",
    " 3 middle digits and - sign\n",
    " 4 digits at end\n",
    " "
   ]
  },
  {
   "cell_type": "code",
   "execution_count": 73,
   "metadata": {},
   "outputs": [
    {
     "name": "stdout",
     "output_type": "stream",
     "text": [
      "its valid number\n"
     ]
    }
   ],
   "source": [
    "#example:\n",
    "import re\n",
    "phone=\"673-898-2029\"\n",
    "if re.search(\"\\w{3}-\\w{3}-\\w{4}\",phone): #w-Returns a match where the string contains any word characters \n",
    "                                     # (characters from a to Z, digits from 0-9, and the underscore _ character)\n",
    "    print(\"its valid number\")\n",
    "else:\n",
    "    print(\"Its invalid number\")"
   ]
  },
  {
   "cell_type": "code",
   "execution_count": 81,
   "metadata": {},
   "outputs": [
    {
     "name": "stdout",
     "output_type": "stream",
     "text": [
      "Its valid number\n"
     ]
    }
   ],
   "source": [
    "number = \"+918328401910\"   #\"^' used for Starts with \"$\" used for end with\n",
    "                           # {}- used for Exactly the specified number of occurrences \n",
    "                           # | - used for or operation\n",
    "                           #[]- set of characters\n",
    "pattern =\"^[6-9][0-9]{9}$|^[+][9][1][6-9][0-9]{9}$|[0][6-9][0-9]{9}$\"\n",
    "if re.search(pattern,number):\n",
    "    print(\"Its valid number\")\n",
    "else:\n",
    "    print(\"Its invalid\")"
   ]
  },
  {
   "cell_type": "code",
   "execution_count": null,
   "metadata": {},
   "outputs": [],
   "source": [
    "# Email Validation:\n",
    "# Rules:\n",
    "1. 1 to 20 lowercase,uppercase characters (a-zA-z)and numbers(0-9),.,_, @\n",
    "2. after @ , characters(a-z) 3-8 followed by .\n",
    "3. after . symbol .com,.in,info character 2-5."
   ]
  },
  {
   "cell_type": "code",
   "execution_count": 87,
   "metadata": {},
   "outputs": [
    {
     "name": "stdout",
     "output_type": "stream",
     "text": [
      "enter your email addressabanandddkdddkdldfdkfdgjdfk12344@gmail.com\n",
      "Its invalid\n"
     ]
    }
   ],
   "source": [
    "#email = \"iamsurya93@gmail.com\"\n",
    "omail = input(\"enter your email address\")\n",
    "pattern = \"^[a-z0-9._][a-z0-9._]{4,25}[@][a-z]{3,8}[.][a-z]{2,8}$\"\n",
    "if re.search(pattern,omail):\n",
    "    print(\"its valid email Id\")\n",
    "else:\n",
    "    print(\"Its invalid\") "
   ]
  },
  {
   "cell_type": "code",
   "execution_count": null,
   "metadata": {},
   "outputs": [],
   "source": []
  },
  {
   "cell_type": "code",
   "execution_count": null,
   "metadata": {},
   "outputs": [],
   "source": []
  }
 ],
 "metadata": {
  "kernelspec": {
   "display_name": "Python 3",
   "language": "python",
   "name": "python3"
  },
  "language_info": {
   "codemirror_mode": {
    "name": "ipython",
    "version": 3
   },
   "file_extension": ".py",
   "mimetype": "text/x-python",
   "name": "python",
   "nbconvert_exporter": "python",
   "pygments_lexer": "ipython3",
   "version": "3.7.3"
  }
 },
 "nbformat": 4,
 "nbformat_minor": 2
}
